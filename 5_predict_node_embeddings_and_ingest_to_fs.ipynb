{
 "cells": [
  {
   "cell_type": "markdown",
   "metadata": {},
   "source": [
    "## In this notebook we will ingest computed node embeddings as feature groups and also prepare training datasets for anomaly detection model training  \n",
    "\n",
    "---\n",
    "**NOTE**: \n",
    "\n",
    "In real life scenarios financial transaction are dynamically evolving graphs. If live Transaction Monitoring System is based on graph or node embeddings then this will require 1st to update the graph and node representations after new transactions arrive. Recomputing entire graph for every newly arrived transaction will lead to unaxeptable delayes and even monitoring system failures. This problem  will be more sever if large amount of updates happen in a short time window.\n",
    "\n",
    "Contact us at Logical Clocks and we will help you to setup end to end graph based deep anomaly detection live Transaction Monitoring Systems. \n",
    "\n",
    "---"
   ]
  },
  {
   "cell_type": "markdown",
   "metadata": {},
   "source": [
    "## Query Model Repository for best node embeddings model"
   ]
  },
  {
   "cell_type": "code",
   "execution_count": 1,
   "metadata": {},
   "outputs": [
    {
     "name": "stdout",
     "output_type": "stream",
     "text": [
      "Starting Spark application\n"
     ]
    },
    {
     "data": {
      "text/html": [
       "<table>\n",
       "<tr><th>ID</th><th>YARN Application ID</th><th>Kind</th><th>State</th><th>Spark UI</th><th>Driver log</th></tr><tr><td>4</td><td>application_1612011562496_0005</td><td>pyspark</td><td>idle</td><td><a target=\"_blank\" href=\"http://resourcemanager.service.consul:8088/proxy/application_1612011562496_0005/\">Link</a></td><td><a target=\"_blank\" href=\"http://davitamlgpu-worker-2.internal.cloudapp.net:8042/node/containerlogs/container_e02_1612011562496_0005_01_000001/amlsim__meb10179\">Link</a></td></tr></table>"
      ],
      "text/plain": [
       "<IPython.core.display.HTML object>"
      ]
     },
     "metadata": {},
     "output_type": "display_data"
    },
    {
     "name": "stdout",
     "output_type": "stream",
     "text": [
      "SparkSession available as 'spark'.\n"
     ]
    }
   ],
   "source": [
    "from hops import model\n",
    "from hops.model import Metric\n",
    "MODEL_NAME=\"NodeEmbeddings\"\n",
    "EVALUATION_METRIC=\"accuracy\""
   ]
  },
  {
   "cell_type": "code",
   "execution_count": 2,
   "metadata": {},
   "outputs": [],
   "source": [
    "best_model = model.get_best_model(MODEL_NAME, EVALUATION_METRIC, Metric.MAX)"
   ]
  },
  {
   "cell_type": "code",
   "execution_count": 3,
   "metadata": {},
   "outputs": [
    {
     "name": "stdout",
     "output_type": "stream",
     "text": [
      "'application_1612011562496_0003_1'"
     ]
    }
   ],
   "source": [
    "best_model['experimentId']"
   ]
  },
  {
   "cell_type": "markdown",
   "metadata": {},
   "source": [
    "## Define model and load wights "
   ]
  },
  {
   "cell_type": "code",
   "execution_count": 4,
   "metadata": {},
   "outputs": [],
   "source": [
    "import tensorflow as tf\n",
    "from tensorflow import keras  \n",
    "\n",
    "import pandas as pd\n",
    "from stellargraph import StellarDiGraph\n",
    "from stellargraph.mapper import Node2VecLinkGenerator, Node2VecNodeGenerator\n",
    "from stellargraph.data import UnsupervisedSampler, BiasedRandomWalk\n",
    "from stellargraph.layer import Node2Vec\n",
    "import pydoop.hdfs as pydoop\n",
    "from pyspark.sql import functions as F\n",
    "from pyspark.sql.functions import array, coalesce, concat,  col\n",
    "\n",
    "import hsfs\n",
    "from hops import hdfs\n"
   ]
  },
  {
   "cell_type": "code",
   "execution_count": 5,
   "metadata": {},
   "outputs": [
    {
     "name": "stdout",
     "output_type": "stream",
     "text": [
      "Connected. Call `.close()` to terminate connection gracefully."
     ]
    }
   ],
   "source": [
    "# Create a connection\n",
    "connection = hsfs.connection()\n",
    "# Get the feature store handle for the project's feature store\n",
    "fs = connection.get_feature_store()"
   ]
  },
  {
   "cell_type": "code",
   "execution_count": 6,
   "metadata": {},
   "outputs": [],
   "source": [
    "node_td = fs.get_training_dataset(\"node_td\", 1)\n",
    "edge_td = fs.get_training_dataset(\"edges_td\", 1)"
   ]
  },
  {
   "cell_type": "code",
   "execution_count": 7,
   "metadata": {},
   "outputs": [],
   "source": [
    "# Get fg as pandas\n",
    "node_pdf = node_td.read().toPandas()\n",
    "edge_pdf = edge_td.read().drop(\"tran_timestamp\").toPandas()"
   ]
  },
  {
   "cell_type": "code",
   "execution_count": 8,
   "metadata": {},
   "outputs": [
    {
     "name": "stdout",
     "output_type": "stream",
     "text": [
      "Defining StellarDiGraph"
     ]
    }
   ],
   "source": [
    "node_data = pd.DataFrame(node_pdf[['type']], index=node_pdf['id'])\n",
    "\n",
    "print('Defining StellarDiGraph')\n",
    "G =StellarDiGraph(node_data,\n",
    "                      edges=edge_pdf, \n",
    "                      edge_type_column=\"tx_type\")\n"
   ]
  },
  {
   "cell_type": "code",
   "execution_count": 9,
   "metadata": {},
   "outputs": [],
   "source": [
    "from hops import experiment\n",
    "from hops import hdfs\n",
    "import json\n"
   ]
  },
  {
   "cell_type": "code",
   "execution_count": null,
   "metadata": {},
   "outputs": [],
   "source": [
    "best_hyperparams_path = \"Resources/embeddings_best_hp.json\"\n",
    "best_hyperparams = json.loads(hdfs.load(best_hyperparams_path))\n",
    "args_dict = {}\n",
    "for key in best_hyperparams.keys():\n",
    "    args_dict[key] = [best_hyperparams[key]]\n",
    "    "
   ]
  },
  {
   "cell_type": "code",
   "execution_count": 10,
   "metadata": {},
   "outputs": [],
   "source": [
    "args_dict =  {\"walk_number\": [40], \"walk_length\": [5], \"emb_size\": [128]}        "
   ]
  },
  {
   "cell_type": "code",
   "execution_count": 11,
   "metadata": {},
   "outputs": [],
   "source": [
    "walk_number = args_dict['walk_number']\n",
    "walk_length = args_dict['walk_length']\n",
    "batch_size = 1\n",
    "emb_size = args_dict['emb_size'][0]\n",
    "# Extracting node embeddings\n",
    "walker = BiasedRandomWalk(\n",
    "        G,\n",
    "        n=walk_number,\n",
    "        length=walk_length,\n",
    "        p=0.5,  # defines probability, 1/p, of returning to source node\n",
    "        q=2.0,  # defines probability, 1/q, for moving to a node away from the source node\n",
    "    )\n",
    "unsupervised_samples = UnsupervisedSampler(G, nodes=list(G.nodes()), walker=walker)\n",
    "generator = Node2VecLinkGenerator(G, batch_size)\n",
    "\n",
    "node2vec = Node2Vec(emb_size, generator=generator)\n",
    "x_inp, x_out = node2vec.in_out_tensors()\n",
    "\n",
    "x_inp_src = x_inp[0]\n",
    "x_out_src = x_out[0]\n",
    "embedding_model = keras.Model(inputs=x_inp_src, outputs=x_out_src)"
   ]
  },
  {
   "cell_type": "code",
   "execution_count": 12,
   "metadata": {},
   "outputs": [
    {
     "name": "stdout",
     "output_type": "stream",
     "text": [
      "<tensorflow.python.training.tracking.util.CheckpointLoadStatus object at 0x7fad59ef7310>"
     ]
    }
   ],
   "source": [
    "latest = tf.train.latest_checkpoint(\"hdfs:///Projects/{}/Experiments/\".format(hdfs.project_name()) + best_model['experimentId'])\n",
    "embedding_model.load_weights(latest)"
   ]
  },
  {
   "cell_type": "code",
   "execution_count": 13,
   "metadata": {},
   "outputs": [],
   "source": [
    "nodes = list(G.nodes())\n",
    "node_gen = Node2VecNodeGenerator(G, batch_size).flow(nodes)"
   ]
  },
  {
   "cell_type": "code",
   "execution_count": 14,
   "metadata": {},
   "outputs": [],
   "source": [
    "import numpy as np\n",
    "import pandas as pd \n",
    "\n",
    "pdf = pd.DataFrame(embedding_model.predict(node_gen), index=G.nodes())\n",
    "emb_feature_names = [\"em_\" + str(c)  for c in pdf.columns]\n",
    "pdf.columns = emb_feature_names\n",
    "pdf['id'] = pdf.index\n",
    "node_embeddings_df = spark.createDataFrame(pdf)"
   ]
  },
  {
   "cell_type": "code",
   "execution_count": 15,
   "metadata": {},
   "outputs": [
    {
     "name": "stdout",
     "output_type": "stream",
     "text": [
      "+-------------------+------------------+--------------------+------------------+------------------+-------------------+--------------------+-------------------+-------------------+-------------------+-------------------+-------------------+-------------------+-------------------+--------------------+-------------------+--------------------+------------------+------------------+--------------------+-------------------+-------------------+-------------------+-------------------+-------------------+--------------------+-------------------+-------------------+--------------------+------------------+------------------+-------------------+-------------------+-------------------+--------------------+-------------------+--------------------+-------------------+--------------------+------------------+-------------------+------------------+--------------------+------------------+-------------------+------------------+-------------------+------------------+-------------------+-------------------+--------------------+-------------------+-------------------+--------------------+--------------------+------------------+-------------------+-------------------+-------------------+------------------+-------------------+-------------------+--------------------+------------------+--------------------+-------------------+------------------+-------------------+-------------------+-------------------+------------------+-------------------+--------------------+--------------------+------------------+--------------------+--------------------+--------------------+------------------+--------------------+-------------------+-------------------+-------------------+-------------------+------------------+------------------+------------------+-------------------+------------------+-------------------+-------------------+-------------------+--------------------+--------------------+-------------------+--------------------+------------------+-------------------+-------------------+------------------+-------------------+--------------------+--------------------+--------------------+--------------------+--------------------+------------------+--------------------+-------------------+--------------------+--------------------+--------------------+-------------------+-------------------+-------------------+-------------------+-------------------+-------------------+-------------------+--------------------+------------------+-------------------+-------------------+------------------+-------------------+------------------+--------------------+-------------------+--------+\n",
      "|               em_0|              em_1|                em_2|              em_3|              em_4|               em_5|                em_6|               em_7|               em_8|               em_9|              em_10|              em_11|              em_12|              em_13|               em_14|              em_15|               em_16|             em_17|             em_18|               em_19|              em_20|              em_21|              em_22|              em_23|              em_24|               em_25|              em_26|              em_27|               em_28|             em_29|             em_30|              em_31|              em_32|              em_33|               em_34|              em_35|               em_36|              em_37|               em_38|             em_39|              em_40|             em_41|               em_42|             em_43|              em_44|             em_45|              em_46|             em_47|              em_48|              em_49|               em_50|              em_51|              em_52|               em_53|               em_54|             em_55|              em_56|              em_57|              em_58|             em_59|              em_60|              em_61|               em_62|             em_63|               em_64|              em_65|             em_66|              em_67|              em_68|              em_69|             em_70|              em_71|               em_72|               em_73|             em_74|               em_75|               em_76|               em_77|             em_78|               em_79|              em_80|              em_81|              em_82|              em_83|             em_84|             em_85|             em_86|              em_87|             em_88|              em_89|              em_90|              em_91|               em_92|               em_93|              em_94|               em_95|             em_96|              em_97|              em_98|             em_99|             em_100|              em_101|              em_102|              em_103|              em_104|              em_105|            em_106|              em_107|             em_108|              em_109|              em_110|              em_111|             em_112|             em_113|             em_114|             em_115|             em_116|             em_117|             em_118|              em_119|            em_120|             em_121|             em_122|            em_123|             em_124|            em_125|              em_126|             em_127|      id|\n",
      "+-------------------+------------------+--------------------+------------------+------------------+-------------------+--------------------+-------------------+-------------------+-------------------+-------------------+-------------------+-------------------+-------------------+--------------------+-------------------+--------------------+------------------+------------------+--------------------+-------------------+-------------------+-------------------+-------------------+-------------------+--------------------+-------------------+-------------------+--------------------+------------------+------------------+-------------------+-------------------+-------------------+--------------------+-------------------+--------------------+-------------------+--------------------+------------------+-------------------+------------------+--------------------+------------------+-------------------+------------------+-------------------+------------------+-------------------+-------------------+--------------------+-------------------+-------------------+--------------------+--------------------+------------------+-------------------+-------------------+-------------------+------------------+-------------------+-------------------+--------------------+------------------+--------------------+-------------------+------------------+-------------------+-------------------+-------------------+------------------+-------------------+--------------------+--------------------+------------------+--------------------+--------------------+--------------------+------------------+--------------------+-------------------+-------------------+-------------------+-------------------+------------------+------------------+------------------+-------------------+------------------+-------------------+-------------------+-------------------+--------------------+--------------------+-------------------+--------------------+------------------+-------------------+-------------------+------------------+-------------------+--------------------+--------------------+--------------------+--------------------+--------------------+------------------+--------------------+-------------------+--------------------+--------------------+--------------------+-------------------+-------------------+-------------------+-------------------+-------------------+-------------------+-------------------+--------------------+------------------+-------------------+-------------------+------------------+-------------------+------------------+--------------------+-------------------+--------+\n",
      "|-0.8930199146270752|-2.030848741531372|-0.32701170444488525|2.0298516750335693|1.1547893285751343|0.04669486731290817| -0.8475490808486938|-0.2040056437253952|-1.7621370553970337|0.01156420074403286| 0.5513870120048523|-1.4357963800430298|-1.6538915634155273| 0.8063316941261292|-0.11444263160228729|-0.3284730315208435|-0.24767884612083435|1.1337558031082153|1.2347508668899536| -0.7561644911766052|0.00491386977955699|-1.0304099321365356|-0.9976292252540588| 0.3221757113933563| 0.3499215245246887| -0.6437833309173584| 0.9063646197319031|0.30329689383506775|0.048154596239328384|-0.600978434085846|0.2199840098619461| 0.5973573327064514|-1.4546867609024048|-0.9317740797996521|-0.15367911756038666| 0.6427434086799622| 0.47419270873069763|0.19320671260356903|-0.45667365193367004| 1.060351848602295|  -1.45932137966156|1.0051506757736206| -0.8580015301704407|0.7634056210517883|-1.8489294052124023|0.3645229935646057|-0.9433990716934204|1.3868153095245361|-0.6810463070869446|-1.5622273683547974|-0.26546478271484375|0.11039134860038757| 0.6115210652351379|-0.45724695920944214|   0.874336302280426|0.2190985530614853|-0.8651975989341736| -0.444562703371048|-1.3857522010803223|0.7786006927490234|0.45695826411247253|-1.5479848384857178|-0.30614596605300903|0.8766179084777832|-0.32750654220581055|-0.4175289571285248| 0.978428065776825|-0.5324382185935974|0.48474806547164917|-0.5137784481048584|-0.808107316493988|-2.3053908348083496|-0.09243590384721756|  0.9417385458946228|0.7057297825813293|-0.00104360841214...|  1.2174811363220215|-0.14668883383274078|-2.126295328140259|-0.24840855598449707|-0.5740369558334351|-0.8982223272323608|-0.3228434920310974|  1.794834852218628|0.5942746996879578|0.3592652380466461|0.7758158445358276| 1.0291812419891357|1.2514569759368896| 0.5964086651802063| 0.4672797620296478|-1.2985247373580933|-0.10950639098882675|-0.25488293170928955|-0.7664577960968018|-0.41972115635871887|1.8751779794692993| 0.1441878378391266| 0.6970205903053284|1.2717666625976562|-0.1503712385892868|-0.31367528438568115|  0.4696117043495178|-0.08557551354169846|-0.21978530287742615|-0.46409955620765686|0.8057918548583984|-0.36492183804512024| 1.5144431591033936|-0.17464999854564667|-0.23850952088832855|-0.03305254504084587| 0.5453717708587646|-0.5601834654808044| -1.089188575744629|-1.5864688158035278|-1.1339906454086304|0.12299112975597382|0.11089682579040527| 0.18745532631874084|1.4406583309173584|  2.157552480697632| 0.7357321381568909| 0.810570478439331| 0.5107593536376953|0.5431222319602966|-0.48236721754074097|-0.5301639437675476|3ecbda2f|\n",
      "| 0.2813786566257477|1.4501885175704956|  0.7176095247268677|0.8700791001319885|0.9930986166000366|-0.7103865742683411|-0.19531409442424774| 1.9245504140853882| 1.1266615390777588| 0.1462291181087494|-0.5430528521537781|-2.3659250736236572|0.11097787320613861|0.10260901600122452|  0.7168830037117004| -0.824138879776001| -0.8605559468269348|0.6117410063743591|0.9156129956245422|-0.23268596827983856|-0.6072965860366821|-0.7758151888847351|-1.7033183574676514|-1.2895888090133667|-0.9564098715782166|-0.22041848301887512|-0.1219281554222107|-0.8720591068267822| -0.9232909083366394|0.6138855218887329|0.1597268134355545|-1.3637968301773071| -1.711462378501892|0.12430787086486816| -2.2751519680023193|-0.7019442319869995|-0.10665545612573624| 0.0091741643846035|  0.8226773738861084|1.6897475719451904|-0.8319768905639648|1.4818627834320068|-0.37317052483558655|0.9214053153991699|-2.0209949016571045|  1.74217689037323|0.33183762431144714|  1.43136465549469|0.28560566902160645|0.07199585437774658|  1.0236629247665405|-0.4376174211502075|-1.0245609283447266|  0.5717176198959351|-0.14535978436470032| 0.424803227186203|0.26004621386528015|-0.5195785164833069|-0.9359981417655945|1.1687122583389282| 1.0874755382537842|-1.4592727422714233| -1.2965551614761353|0.4162149727344513|  1.0831652879714966| 0.7670494914054871|1.2940627336502075|-0.6884500980377197|-0.8517460823059082| 0.9017817378044128| 0.806461751461029| 0.8687108755111694|  0.6305435299873352|-0.10208317637443542|1.2426414489746094|  0.3527790606021881|-0.07049498707056046|  0.9571540951728821| 1.088773488998413| -0.6130857467651367| 0.6450051069259644|0.05241621285676956| 0.4501900374889374|0.28492265939712524|1.0597182512283325| 0.403192937374115|0.4906730651855469|-0.2993627190589905|1.0399856567382812|0.11250796169042587|-1.3109196424484253|-0.8853034377098083|-0.17495869100093842|-0.43849173188209534| -0.322758287191391|  -0.313364177942276|0.9537904858589172|0.13491402566432953|-0.3242824673652649|1.1783696413040161| 0.8113153576850891| -0.5345669984817505|-0.17493493854999542|-0.20343245565891266| -1.4224179983139038|  0.2661775052547455|-0.958916425704956| -0.6598594784736633|-0.2726060450077057|  0.2373911440372467|0.019688976928591728|-0.30988436937332153|-0.8370782136917114| -0.932138979434967|0.49480384588241577|0.23627248406410217|-0.4715433120727539|0.11157543212175369| 0.5915092825889587|-0.41949397325515747| 1.140567421913147|0.34871330857276917|-0.3800332248210907|1.3719526529312134|-0.4688986837863922|1.5234344005584717|   1.955024242401123|-0.3677091896533966|94905b67|\n",
      "+-------------------+------------------+--------------------+------------------+------------------+-------------------+--------------------+-------------------+-------------------+-------------------+-------------------+-------------------+-------------------+-------------------+--------------------+-------------------+--------------------+------------------+------------------+--------------------+-------------------+-------------------+-------------------+-------------------+-------------------+--------------------+-------------------+-------------------+--------------------+------------------+------------------+-------------------+-------------------+-------------------+--------------------+-------------------+--------------------+-------------------+--------------------+------------------+-------------------+------------------+--------------------+------------------+-------------------+------------------+-------------------+------------------+-------------------+-------------------+--------------------+-------------------+-------------------+--------------------+--------------------+------------------+-------------------+-------------------+-------------------+------------------+-------------------+-------------------+--------------------+------------------+--------------------+-------------------+------------------+-------------------+-------------------+-------------------+------------------+-------------------+--------------------+--------------------+------------------+--------------------+--------------------+--------------------+------------------+--------------------+-------------------+-------------------+-------------------+-------------------+------------------+------------------+------------------+-------------------+------------------+-------------------+-------------------+-------------------+--------------------+--------------------+-------------------+--------------------+------------------+-------------------+-------------------+------------------+-------------------+--------------------+--------------------+--------------------+--------------------+--------------------+------------------+--------------------+-------------------+--------------------+--------------------+--------------------+-------------------+-------------------+-------------------+-------------------+-------------------+-------------------+-------------------+--------------------+------------------+-------------------+-------------------+------------------+-------------------+------------------+--------------------+-------------------+--------+\n",
      "only showing top 2 rows"
     ]
    }
   ],
   "source": [
    "node_embeddings_df.show(2)"
   ]
  },
  {
   "cell_type": "markdown",
   "metadata": {},
   "source": [
    "## Create a connection to hsfs"
   ]
  },
  {
   "cell_type": "code",
   "execution_count": 16,
   "metadata": {},
   "outputs": [
    {
     "name": "stdout",
     "output_type": "stream",
     "text": [
      "Connected. Call `.close()` to terminate connection gracefully."
     ]
    }
   ],
   "source": [
    "import hsfs\n",
    "from hops import hdfs\n",
    "# Create a connection\n",
    "connection = hsfs.connection()\n",
    "# Get the feature store handle for the project's feature store\n",
    "fs = connection.get_feature_store()"
   ]
  },
  {
   "cell_type": "markdown",
   "metadata": {},
   "source": [
    "## Retrieve nodes training dataset from hsfs and determine whether node was part of the previously known money laundering scheme or not "
   ]
  },
  {
   "cell_type": "code",
   "execution_count": 17,
   "metadata": {},
   "outputs": [
    {
     "name": "stdout",
     "output_type": "stream",
     "text": [
      "+--------+----+\n",
      "|      id|type|\n",
      "+--------+----+\n",
      "|3ecbda2f|   0|\n",
      "|94905b67|   0|\n",
      "|58986dcf|   0|\n",
      "|d1e2cc07|   1|\n",
      "|344ba0e2|   1|\n",
      "+--------+----+\n",
      "only showing top 5 rows"
     ]
    }
   ],
   "source": [
    "node_td = fs.get_training_dataset(\"node_td\", 1)\n",
    "node_td.show(5)"
   ]
  },
  {
   "cell_type": "code",
   "execution_count": 18,
   "metadata": {},
   "outputs": [
    {
     "name": "stdout",
     "output_type": "stream",
     "text": [
      "+--------+--------+-------+--------+-------+------+\n",
      "|  source|  target|tx_type|base_amt|tran_id|is_sar|\n",
      "+--------+--------+-------+--------+-------+------+\n",
      "|3aa9646b|1e46e726|      4|  858.77|    496|     0|\n",
      "|49203bc3|a74d1101|      4|  386.86|   1342|     0|\n",
      "|616d4505|99af2455|      4|  616.43|   1580|     0|\n",
      "|39be1ea2|e7ec7bdb|      4|  146.44|   2866|     0|\n",
      "|e2e0d938|afc399a9|      4|  439.09|   3997|     0|\n",
      "+--------+--------+-------+--------+-------+------+\n",
      "only showing top 5 rows"
     ]
    }
   ],
   "source": [
    "edges_td = fs.get_training_dataset(\"edges_td\", 1)\n",
    "edges_td.show(5)"
   ]
  },
  {
   "cell_type": "code",
   "execution_count": 19,
   "metadata": {},
   "outputs": [
    {
     "name": "stdout",
     "output_type": "stream",
     "text": [
      "+--------+------+\n",
      "|      id|is_sar|\n",
      "+--------+------+\n",
      "|33a8ff5b|     1|\n",
      "|43e028ef|     1|\n",
      "|fcf3bbf3|     1|\n",
      "|8b9017b8|     1|\n",
      "|9c187eed|     1|\n",
      "|65636b63|     1|\n",
      "|68c0230d|     1|\n",
      "|550a25ff|     1|\n",
      "|d73e5230|     1|\n",
      "|c0be245b|     1|\n",
      "|cdbd2ed5|     1|\n",
      "|963b978f|     1|\n",
      "|84563a83|     1|\n",
      "|840701de|     1|\n",
      "|da77c74b|     1|\n",
      "|b0f4351c|     1|\n",
      "|dd2ebcf1|     1|\n",
      "|d7c99aa5|     1|\n",
      "|dc37f73b|     1|\n",
      "|c29d75dc|     1|\n",
      "+--------+------+\n",
      "only showing top 20 rows"
     ]
    }
   ],
   "source": [
    "alert_edges = edges_td.read().where(F.col(\"is_sar\")==1)\n",
    "alert_sources = alert_edges.select([\"source\"]).toDF(\"id\")\n",
    "alert_targets = alert_edges.select([\"target\"]).toDF(\"id\")\n",
    "alert_nodes = alert_sources.union(alert_targets).dropDuplicates(subset=[\"id\"])\n",
    "alert_nodes = alert_nodes.withColumn(\"is_sar\",F.lit(1))\n",
    "alert_nodes.show()"
   ]
  },
  {
   "cell_type": "code",
   "execution_count": 20,
   "metadata": {},
   "outputs": [
    {
     "name": "stdout",
     "output_type": "stream",
     "text": [
      "+--------+------+\n",
      "|      id|is_sar|\n",
      "+--------+------+\n",
      "|01fdc089|     0|\n",
      "|1a14903a|     0|\n",
      "|243b1e8b|     0|\n",
      "|26c56102|     0|\n",
      "|2906ef08|     0|\n",
      "|33a8ff5b|     1|\n",
      "|3406706a|     0|\n",
      "|3406d993|     0|\n",
      "|43e028ef|     1|\n",
      "|4b46d80d|     0|\n",
      "|5132aa4d|     0|\n",
      "|5628bd6c|     0|\n",
      "|5645140a|     0|\n",
      "|5a99160f|     0|\n",
      "|5c01ec6e|     0|\n",
      "|62827917|     0|\n",
      "|68b90958|     0|\n",
      "|7138cbc6|     0|\n",
      "|8b9017b8|     1|\n",
      "|8c094b0d|     0|\n",
      "+--------+------+\n",
      "only showing top 20 rows"
     ]
    }
   ],
   "source": [
    "node_embeddings_df = node_embeddings_df.join(alert_nodes,['id'],\"left\")\n",
    "node_embeddings_df = node_embeddings_df.withColumn(\"is_sar\",F.when(F.col(\"is_sar\") == 1, F.col(\"is_sar\")).otherwise(0))\n",
    "node_embeddings_df.select(\"id\",\"is_sar\").show()"
   ]
  },
  {
   "cell_type": "code",
   "execution_count": 21,
   "metadata": {},
   "outputs": [
    {
     "name": "stdout",
     "output_type": "stream",
     "text": [
      "7347"
     ]
    }
   ],
   "source": [
    "node_embeddings_df.count()"
   ]
  },
  {
   "cell_type": "code",
   "execution_count": 22,
   "metadata": {},
   "outputs": [],
   "source": [
    "emb_td = node_embeddings_df.drop(\"id\").withColumn(\"embedding\", array(emb_feature_names)).select(\"is_sar\",\"embedding\").withColumnRenamed(\"is_sar\",\"target\")"
   ]
  },
  {
   "cell_type": "code",
   "execution_count": 23,
   "metadata": {},
   "outputs": [
    {
     "name": "stdout",
     "output_type": "stream",
     "text": [
      "+------+--------------------+\n",
      "|target|           embedding|\n",
      "+------+--------------------+\n",
      "|     0|[-1.5373741388320...|\n",
      "|     0|[0.62441319227218...|\n",
      "|     0|[0.22413851320743...|\n",
      "|     0|[0.25429412722587...|\n",
      "|     0|[0.37491050362586...|\n",
      "|     1|[0.61604291200637...|\n",
      "|     0|[-1.5816363096237...|\n",
      "|     0|[-0.2432636618614...|\n",
      "|     1|[0.54767918586730...|\n",
      "|     0|[-1.4871842861175...|\n",
      "|     0|[-0.1161699146032...|\n",
      "|     0|[-0.3852881193161...|\n",
      "|     0|[0.56496119499206...|\n",
      "|     0|[-0.0081242443993...|\n",
      "|     0|[1.36144602298736...|\n",
      "|     0|[1.03439927101135...|\n",
      "|     0|[-1.3794887065887...|\n",
      "|     0|[-0.7951366305351...|\n",
      "|     1|[-1.1065009832382...|\n",
      "|     0|[-1.7407625913619...|\n",
      "+------+--------------------+\n",
      "only showing top 20 rows"
     ]
    }
   ],
   "source": [
    "emb_td.show()"
   ]
  },
  {
   "cell_type": "markdown",
   "metadata": {},
   "source": [
    "## Prepare training datasets for anomaly detection \n",
    "###### In the next notebook we are going to train [gan for anomaly detection](https://arxiv.org/pdf/1905.11034.pdf). Durring training step  we will provide only features of accounts that have never been reported for money laundering behaviour.  But we will disclose previously reported accounts to the model only in evaluation step.   "
   ]
  },
  {
   "cell_type": "code",
   "execution_count": 24,
   "metadata": {},
   "outputs": [],
   "source": [
    "non_sar_df = emb_td.where(col(\"target\")==0)"
   ]
  },
  {
   "cell_type": "code",
   "execution_count": 25,
   "metadata": {},
   "outputs": [],
   "source": [
    "sar_df = emb_td.where(col(\"target\")==1)"
   ]
  },
  {
   "cell_type": "code",
   "execution_count": 26,
   "metadata": {},
   "outputs": [],
   "source": [
    "# Now that the data has been prepared, let's split the dataset into a training and test dataframe\n",
    "[non_sar_train_df, non_sar_eval_df] = non_sar_df.randomSplit([0.8, 0.02],seed = 12345)"
   ]
  },
  {
   "cell_type": "code",
   "execution_count": 27,
   "metadata": {},
   "outputs": [
    {
     "name": "stdout",
     "output_type": "stream",
     "text": [
      "<hsfs.training_dataset.TrainingDataset object at 0x7face4c5dfd0>"
     ]
    }
   ],
   "source": [
    "non_sar_td = fs.create_training_dataset(name=\"gan_non_sar_training_df\",\n",
    "                                       version=1,\n",
    "                                       data_format=\"tfrecord\",\n",
    "                                       label=[\"target\"], \n",
    "                                       statistics_config=False, \n",
    "                                       description=\"non sar dataset for gan training\")\n",
    "non_sar_td.save(non_sar_train_df)"
   ]
  },
  {
   "cell_type": "code",
   "execution_count": 28,
   "metadata": {},
   "outputs": [],
   "source": [
    "eval_df = non_sar_eval_df.union(sar_df)"
   ]
  },
  {
   "cell_type": "code",
   "execution_count": 29,
   "metadata": {},
   "outputs": [
    {
     "name": "stdout",
     "output_type": "stream",
     "text": [
      "<hsfs.training_dataset.TrainingDataset object at 0x7face5482950>"
     ]
    }
   ],
   "source": [
    "gan_eval_ds = fs.create_training_dataset(name=\"gan_eval_df\",\n",
    "                                       version=1,\n",
    "                                       data_format=\"tfrecord\",\n",
    "                                       label=[\"target\"], \n",
    "                                       statistics_config=False, \n",
    "                                       description=\"evaluation dataset for gan training\")\n",
    "gan_eval_ds.save(eval_df)"
   ]
  },
  {
   "cell_type": "code",
   "execution_count": null,
   "metadata": {},
   "outputs": [],
   "source": []
  },
  {
   "cell_type": "code",
   "execution_count": null,
   "metadata": {},
   "outputs": [],
   "source": []
  }
 ],
 "metadata": {
  "kernelspec": {
   "display_name": "PySpark",
   "language": "python",
   "name": "pysparkkernel"
  },
  "language_info": {
   "codemirror_mode": {
    "name": "python",
    "version": 3
   },
   "mimetype": "text/x-python",
   "name": "pyspark",
   "pygments_lexer": "python3"
  }
 },
 "nbformat": 4,
 "nbformat_minor": 4
}
