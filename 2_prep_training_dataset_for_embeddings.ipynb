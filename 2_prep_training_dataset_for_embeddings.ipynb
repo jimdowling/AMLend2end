{
 "cells": [
  {
   "cell_type": "code",
   "execution_count": 1,
   "metadata": {},
   "outputs": [
    {
     "name": "stdout",
     "output_type": "stream",
     "text": [
      "Starting Spark application\n"
     ]
    },
    {
     "data": {
      "text/html": [
       "<table>\n",
       "<tr><th>ID</th><th>YARN Application ID</th><th>Kind</th><th>State</th><th>Spark UI</th><th>Driver log</th></tr><tr><td>44</td><td>application_1610641989196_0291</td><td>pyspark</td><td>idle</td><td><a target=\"_blank\" href=\"http://resourcemanager.service.consul:8088/proxy/application_1610641989196_0291/\">Link</a></td><td><a target=\"_blank\" href=\"http://jimeuwest-worker-4.internal.cloudapp.net:8042/node/containerlogs/container_e02_1610641989196_0291_01_000001/amlsim__davit000\">Link</a></td></tr></table>"
      ],
      "text/plain": [
       "<IPython.core.display.HTML object>"
      ]
     },
     "metadata": {},
     "output_type": "display_data"
    },
    {
     "name": "stdout",
     "output_type": "stream",
     "text": [
      "SparkSession available as 'spark'.\n",
      "<pyspark.sql.session.SparkSession object at 0x7f3965eb4c10>"
     ]
    }
   ],
   "source": [
    "spark"
   ]
  },
  {
   "cell_type": "code",
   "execution_count": 2,
   "metadata": {},
   "outputs": [],
   "source": [
    "import hashlib\n",
    "from datetime import datetime\n",
    "from pyspark.sql import functions as F\n",
    "from pyspark.sql.types import FloatType\n",
    "import hsfs"
   ]
  },
  {
   "cell_type": "code",
   "execution_count": 3,
   "metadata": {},
   "outputs": [
    {
     "name": "stdout",
     "output_type": "stream",
     "text": [
      "Connected. Call `.close()` to terminate connection gracefully."
     ]
    }
   ],
   "source": [
    "# Create a connection\n",
    "connection = hsfs.connection()\n",
    "# Get the feature store handle for the project's feature store\n",
    "fs = connection.get_feature_store()"
   ]
  },
  {
   "cell_type": "markdown",
   "metadata": {},
   "source": [
    "## Load transactions feature group from hsfs"
   ]
  },
  {
   "cell_type": "code",
   "execution_count": 4,
   "metadata": {},
   "outputs": [
    {
     "name": "stdout",
     "output_type": "stream",
     "text": [
      "+--------+--------+-------+-------+--------+--------------+\n",
      "|     src|base_amt|tran_id|tx_type|     dst|tran_timestamp|\n",
      "+--------+--------+-------+-------+--------+--------------+\n",
      "|3aa9646b|  858.77|    496|      4|1e46e726|        Jan-01|\n",
      "|49203bc3|  386.86|   1342|      4|a74d1101|        Jan-01|\n",
      "|616d4505|  616.43|   1580|      4|99af2455|        Jan-02|\n",
      "|39be1ea2|  146.44|   2866|      4|e7ec7bdb|        Jan-02|\n",
      "|e2e0d938|  439.09|   3997|      4|afc399a9|        Jan-03|\n",
      "|75c9a805|   361.0|   5518|      4|d7a317f6|        Jan-04|\n",
      "|c14f4989|  768.98|   7340|      4|733a496b|        Jan-06|\n",
      "|576eb672|   943.4|   9376|      4|aa49b0eb|        Jan-07|\n",
      "|847a9cf6|   668.3|  10362|      4|b070a6bb|        Jan-08|\n",
      "|12a388ff|  139.84|  10817|      4|586377aa|        Jan-08|\n",
      "|b36f9c84|  499.47|  11317|      4|1b467848|        Jan-08|\n",
      "|362e42e0|  357.96|  11748|      4|385afb8b|        Jan-09|\n",
      "|572014da|   630.9|  13285|      4|acd60eca|        Jan-10|\n",
      "|5ff2d9a7|  685.07|  14832|      4|31976e38|        Jan-11|\n",
      "|24bf603c|  964.81|  15619|      4|fcf3bbf3|        Jan-11|\n",
      "|9a118f8d|  919.76|  16574|      4|ca0967a6|        Jan-12|\n",
      "|65b8a85f|  302.26|  18944|      4|bc0de3c7|        Jan-14|\n",
      "|d7a317f6|  637.18|  19204|      4|31db9495|        Jan-14|\n",
      "|95aac0c4|  630.43|  19530|      4|3a63a8fc|        Jan-14|\n",
      "|5411dc34|  374.73|  20382|      4|f388cc0f|        Jan-15|\n",
      "+--------+--------+-------+-------+--------+--------------+\n",
      "only showing top 20 rows"
     ]
    }
   ],
   "source": [
    "transactions_fg = fs.get_feature_group(\"transactions_fg\", 1)\n",
    "transactions_df = transactions_fg.read()\n",
    "transactions_df.show()"
   ]
  },
  {
   "cell_type": "markdown",
   "metadata": {},
   "source": [
    "## Load alert transactions feature group from hsfs"
   ]
  },
  {
   "cell_type": "code",
   "execution_count": 5,
   "metadata": {},
   "outputs": [
    {
     "name": "stdout",
     "output_type": "stream",
     "text": [
      "+------+-------+--------+--------------+\n",
      "|is_sar|tran_id|alert_id|    alert_type|\n",
      "+------+-------+--------+--------------+\n",
      "|  true| 447977|      52|gather_scatter|\n",
      "|  true| 449282|      23|scatter_gather|\n",
      "|  true| 454797|      52|gather_scatter|\n",
      "|  true| 462363|      68|gather_scatter|\n",
      "|  true| 468776|      68|gather_scatter|\n",
      "|  true| 518050|      26|scatter_gather|\n",
      "|  true| 518475|      10|scatter_gather|\n",
      "|  true| 519362|      26|scatter_gather|\n",
      "|  true| 521249|      26|scatter_gather|\n",
      "|  true| 521357|      65|gather_scatter|\n",
      "|  true| 557238|      25|scatter_gather|\n",
      "|  true| 558782|      25|scatter_gather|\n",
      "|  true| 559459|      61|gather_scatter|\n",
      "|  true| 559460|      61|gather_scatter|\n",
      "|  true| 559567|      69|gather_scatter|\n",
      "|  true| 553958|      69|gather_scatter|\n",
      "|  true| 554411|      25|scatter_gather|\n",
      "|  true| 555697|      61|gather_scatter|\n",
      "|  true| 556608|      61|gather_scatter|\n",
      "|  true| 556609|      61|gather_scatter|\n",
      "+------+-------+--------+--------------+\n",
      "only showing top 20 rows"
     ]
    }
   ],
   "source": [
    "alert_transactions_fg = fs.get_feature_group(\"alert_transactions_fg\", 1)\n",
    "alert_transactions_df = alert_transactions_fg.read()\n",
    "alert_transactions_df.show()"
   ]
  },
  {
   "cell_type": "markdown",
   "metadata": {},
   "source": [
    "## Load party feature group from hsfs"
   ]
  },
  {
   "cell_type": "code",
   "execution_count": 6,
   "metadata": {},
   "outputs": [
    {
     "name": "stdout",
     "output_type": "stream",
     "text": [
      "+----+--------+\n",
      "|type|      id|\n",
      "+----+--------+\n",
      "|   0|5628bd6c|\n",
      "|   0|a1fcba39|\n",
      "|   1|f56c9501|\n",
      "|   0|9969afdd|\n",
      "|   1|b356eeae|\n",
      "|   0|3406706a|\n",
      "|   0|26c56102|\n",
      "|   1|e386ebf7|\n",
      "|   1|8c094b0d|\n",
      "|   1|939235aa|\n",
      "|   0|de6bf2a5|\n",
      "|   0|33a8ff5b|\n",
      "|   1|a32807a1|\n",
      "|   0|2906ef08|\n",
      "|   1|c2a01b8d|\n",
      "|   1|5a99160f|\n",
      "|   0|8b9017b8|\n",
      "|   1|fcf3bbf3|\n",
      "|   0|5132aa4d|\n",
      "|   1|68b90958|\n",
      "+----+--------+\n",
      "only showing top 20 rows"
     ]
    }
   ],
   "source": [
    "party_fg = fs.get_feature_group(\"party_fg\", 1)\n",
    "party_df = party_fg.read()\n",
    "party_df.show()"
   ]
  },
  {
   "cell_type": "code",
   "execution_count": null,
   "metadata": {},
   "outputs": [],
   "source": []
  },
  {
   "cell_type": "markdown",
   "metadata": {},
   "source": [
    "## Create graph edge training dataset"
   ]
  },
  {
   "cell_type": "code",
   "execution_count": 7,
   "metadata": {},
   "outputs": [
    {
     "name": "stdout",
     "output_type": "stream",
     "text": [
      "915"
     ]
    }
   ],
   "source": [
    "alert_transactions_df.count()"
   ]
  },
  {
   "cell_type": "code",
   "execution_count": 8,
   "metadata": {},
   "outputs": [
    {
     "name": "stdout",
     "output_type": "stream",
     "text": [
      "438386"
     ]
    }
   ],
   "source": [
    "transactions_df.count()"
   ]
  },
  {
   "cell_type": "code",
   "execution_count": 9,
   "metadata": {},
   "outputs": [],
   "source": [
    "edges = transactions_df.join(alert_transactions_df,[\"tran_id\"],\"left\")\n",
    "edges = edges.withColumn(\"is_sar\",F.when(F.col(\"is_sar\") == \"true\", 1).otherwise(0))\\\n",
    "             .select(\"src\",\"dst\",\"tx_type\",\"base_amt\",\"tran_id\",\"is_sar\")\\\n",
    "             .toDF('source', 'target', 'tx_type', 'base_amt', 'tran_id', 'is_sar')"
   ]
  },
  {
   "cell_type": "code",
   "execution_count": 10,
   "metadata": {},
   "outputs": [
    {
     "name": "stdout",
     "output_type": "stream",
     "text": [
      "+--------+--------+-------+--------+-------+------+\n",
      "|  source|  target|tx_type|base_amt|tran_id|is_sar|\n",
      "+--------+--------+-------+--------+-------+------+\n",
      "|3aa9646b|1e46e726|      4|  858.77|    496|     0|\n",
      "|49203bc3|a74d1101|      4|  386.86|   1342|     0|\n",
      "|616d4505|99af2455|      4|  616.43|   1580|     0|\n",
      "|39be1ea2|e7ec7bdb|      4|  146.44|   2866|     0|\n",
      "|e2e0d938|afc399a9|      4|  439.09|   3997|     0|\n",
      "|75c9a805|d7a317f6|      4|   361.0|   5518|     0|\n",
      "|c14f4989|733a496b|      4|  768.98|   7340|     0|\n",
      "|576eb672|aa49b0eb|      4|   943.4|   9376|     0|\n",
      "|847a9cf6|b070a6bb|      4|   668.3|  10362|     0|\n",
      "|12a388ff|586377aa|      4|  139.84|  10817|     0|\n",
      "|b36f9c84|1b467848|      4|  499.47|  11317|     0|\n",
      "|362e42e0|385afb8b|      4|  357.96|  11748|     0|\n",
      "|572014da|acd60eca|      4|   630.9|  13285|     0|\n",
      "|5ff2d9a7|31976e38|      4|  685.07|  14832|     0|\n",
      "|24bf603c|fcf3bbf3|      4|  964.81|  15619|     0|\n",
      "|9a118f8d|ca0967a6|      4|  919.76|  16574|     0|\n",
      "|65b8a85f|bc0de3c7|      4|  302.26|  18944|     0|\n",
      "|d7a317f6|31db9495|      4|  637.18|  19204|     0|\n",
      "|95aac0c4|3a63a8fc|      4|  630.43|  19530|     0|\n",
      "|5411dc34|f388cc0f|      4|  374.73|  20382|     0|\n",
      "+--------+--------+-------+--------+-------+------+\n",
      "only showing top 20 rows"
     ]
    }
   ],
   "source": [
    "edges.show()"
   ]
  },
  {
   "cell_type": "code",
   "execution_count": 11,
   "metadata": {},
   "outputs": [
    {
     "name": "stdout",
     "output_type": "stream",
     "text": [
      "438386"
     ]
    }
   ],
   "source": [
    "edges.count()"
   ]
  },
  {
   "cell_type": "code",
   "execution_count": 12,
   "metadata": {},
   "outputs": [
    {
     "name": "stdout",
     "output_type": "stream",
     "text": [
      "915"
     ]
    }
   ],
   "source": [
    "edges.where(F.col(\"is_sar\")==1).count()"
   ]
  },
  {
   "cell_type": "code",
   "execution_count": 13,
   "metadata": {},
   "outputs": [
    {
     "name": "stdout",
     "output_type": "stream",
     "text": [
      "<hsfs.training_dataset.TrainingDataset object at 0x7f3973229cd0>"
     ]
    }
   ],
   "source": [
    "edges_td_meta = fs.create_training_dataset(name=\"edges_td\",\n",
    "                                       version=1,\n",
    "                                       data_format=\"csv\",\n",
    "                                       label = [\"is_sar\"],   \n",
    "                                       description=\"edges training dataset\")\n",
    "edges_td_meta.save(edges)"
   ]
  },
  {
   "cell_type": "markdown",
   "metadata": {},
   "source": [
    "## Create graph node training dataset"
   ]
  },
  {
   "cell_type": "code",
   "execution_count": 14,
   "metadata": {},
   "outputs": [
    {
     "name": "stdout",
     "output_type": "stream",
     "text": [
      "+--------+\n",
      "|      id|\n",
      "+--------+\n",
      "|5c01ec6e|\n",
      "|5132aa4d|\n",
      "|62827917|\n",
      "|7138cbc6|\n",
      "|243b1e8b|\n",
      "|a4e0bd48|\n",
      "|a32807a1|\n",
      "|c412103b|\n",
      "|01fdc089|\n",
      "|5a99160f|\n",
      "|d3adb450|\n",
      "|d7a0ca48|\n",
      "|c2a01b8d|\n",
      "|de5c22e0|\n",
      "|68b90958|\n",
      "|939235aa|\n",
      "|a9edaba6|\n",
      "|e386ebf7|\n",
      "|26c56102|\n",
      "|9969afdd|\n",
      "+--------+\n",
      "only showing top 20 rows"
     ]
    }
   ],
   "source": [
    "sources = edges.select([\"source\"]).toDF(\"id\")\n",
    "targets = edges.select([\"target\"]).toDF(\"id\")\n",
    "nodes = sources.union(targets).dropDuplicates(subset=[\"id\"])\n",
    "nodes.show()"
   ]
  },
  {
   "cell_type": "code",
   "execution_count": 15,
   "metadata": {},
   "outputs": [
    {
     "name": "stdout",
     "output_type": "stream",
     "text": [
      "7347"
     ]
    }
   ],
   "source": [
    "nodes.count()"
   ]
  },
  {
   "cell_type": "code",
   "execution_count": 16,
   "metadata": {},
   "outputs": [
    {
     "name": "stdout",
     "output_type": "stream",
     "text": [
      "7347"
     ]
    }
   ],
   "source": [
    "nodes_td = nodes.join(party_df, [\"id\"])\n",
    "nodes_td.count()"
   ]
  },
  {
   "cell_type": "code",
   "execution_count": 17,
   "metadata": {},
   "outputs": [
    {
     "name": "stdout",
     "output_type": "stream",
     "text": [
      "+--------+----+\n",
      "|      id|type|\n",
      "+--------+----+\n",
      "|243b1e8b|   1|\n",
      "|a4e0bd48|   0|\n",
      "|01fdc089|   1|\n",
      "|4b46d80d|   0|\n",
      "|ab04afb9|   0|\n",
      "|cf2f4c98|   0|\n",
      "|62827917|   1|\n",
      "|5a99160f|   1|\n",
      "|e386ebf7|   1|\n",
      "|68b90958|   1|\n",
      "|d3adb450|   1|\n",
      "|90e0340f|   1|\n",
      "|1a14903a|   0|\n",
      "|c412103b|   1|\n",
      "|5645140a|   0|\n",
      "|b6529244|   0|\n",
      "|939235aa|   1|\n",
      "|5132aa4d|   0|\n",
      "|fcf3bbf3|   1|\n",
      "|9969afdd|   0|\n",
      "+--------+----+\n",
      "only showing top 20 rows"
     ]
    }
   ],
   "source": [
    "nodes_td.show()"
   ]
  },
  {
   "cell_type": "code",
   "execution_count": 18,
   "metadata": {},
   "outputs": [
    {
     "name": "stdout",
     "output_type": "stream",
     "text": [
      "<hsfs.training_dataset.TrainingDataset object at 0x7f39736bff90>"
     ]
    }
   ],
   "source": [
    "node_td_meta = fs.create_training_dataset(name=\"node_td\",\n",
    "                                       version=1,\n",
    "                                       data_format=\"csv\",   \n",
    "                                       description=\"node training dataset\")\n",
    "node_td_meta.save(nodes_td)"
   ]
  },
  {
   "cell_type": "code",
   "execution_count": null,
   "metadata": {},
   "outputs": [],
   "source": []
  },
  {
   "cell_type": "code",
   "execution_count": null,
   "metadata": {},
   "outputs": [],
   "source": []
  }
 ],
 "metadata": {
  "kernelspec": {
   "display_name": "PySpark",
   "language": "python",
   "name": "pysparkkernel"
  },
  "language_info": {
   "codemirror_mode": {
    "name": "python",
    "version": 3
   },
   "mimetype": "text/x-python",
   "name": "pyspark",
   "pygments_lexer": "python3"
  }
 },
 "nbformat": 4,
 "nbformat_minor": 4
}
