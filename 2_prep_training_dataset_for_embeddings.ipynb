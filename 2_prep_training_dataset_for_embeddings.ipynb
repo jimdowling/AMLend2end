{
 "cells": [
  {
   "cell_type": "code",
   "execution_count": 1,
   "metadata": {},
   "outputs": [
    {
     "name": "stdout",
     "output_type": "stream",
     "text": [
      "Starting Spark application\n"
     ]
    },
    {
     "data": {
      "text/html": [
       "<table>\n",
       "<tr><th>ID</th><th>YARN Application ID</th><th>Kind</th><th>State</th><th>Spark UI</th><th>Driver log</th></tr><tr><td>3</td><td>application_1612044880670_0004</td><td>pyspark</td><td>idle</td><td><a target=\"_blank\" href=\"http://davitamlgpu-master.internal.cloudapp.net:8088/proxy/application_1612044880670_0004/\">Link</a></td><td><a target=\"_blank\" href=\"http://davitamlgpu-worker-1.internal.cloudapp.net:8042/node/containerlogs/container_e04_1612044880670_0004_01_000001/amlsim__meb10179\">Link</a></td></tr></table>"
      ],
      "text/plain": [
       "<IPython.core.display.HTML object>"
      ]
     },
     "metadata": {},
     "output_type": "display_data"
    },
    {
     "name": "stdout",
     "output_type": "stream",
     "text": [
      "SparkSession available as 'spark'.\n",
      "<pyspark.sql.session.SparkSession object at 0x7f1aff7dca10>"
     ]
    }
   ],
   "source": [
    "spark"
   ]
  },
  {
   "cell_type": "code",
   "execution_count": 2,
   "metadata": {},
   "outputs": [],
   "source": [
    "import hashlib\n",
    "from datetime import datetime\n",
    "from pyspark.sql import functions as F\n",
    "from pyspark.sql.types import FloatType\n",
    "import hsfs"
   ]
  },
  {
   "cell_type": "code",
   "execution_count": 3,
   "metadata": {},
   "outputs": [
    {
     "name": "stdout",
     "output_type": "stream",
     "text": [
      "Connected. Call `.close()` to terminate connection gracefully."
     ]
    }
   ],
   "source": [
    "# Create a connection\n",
    "connection = hsfs.connection()\n",
    "# Get the feature store handle for the project's feature store\n",
    "fs = connection.get_feature_store()"
   ]
  },
  {
   "cell_type": "markdown",
   "metadata": {},
   "source": [
    "## Load transactions feature group from hsfs"
   ]
  },
  {
   "cell_type": "code",
   "execution_count": 4,
   "metadata": {},
   "outputs": [
    {
     "name": "stdout",
     "output_type": "stream",
     "text": [
      "+-------+--------+--------------+-------+--------+--------+\n",
      "|tran_id|     dst|tran_timestamp|tx_type|     src|base_amt|\n",
      "+-------+--------+--------------+-------+--------+--------+\n",
      "|    496|1e46e726|        Jan-01|      4|3aa9646b|  858.77|\n",
      "|   1342|a74d1101|        Jan-01|      4|49203bc3|  386.86|\n",
      "|   1580|99af2455|        Jan-02|      4|616d4505|  616.43|\n",
      "|   2866|e7ec7bdb|        Jan-02|      4|39be1ea2|  146.44|\n",
      "|   3997|afc399a9|        Jan-03|      4|e2e0d938|  439.09|\n",
      "|   5518|d7a317f6|        Jan-04|      4|75c9a805|   361.0|\n",
      "|   7340|733a496b|        Jan-06|      4|c14f4989|  768.98|\n",
      "|   9376|aa49b0eb|        Jan-07|      4|576eb672|   943.4|\n",
      "|  10362|b070a6bb|        Jan-08|      4|847a9cf6|   668.3|\n",
      "|  10817|586377aa|        Jan-08|      4|12a388ff|  139.84|\n",
      "|  11317|1b467848|        Jan-08|      4|b36f9c84|  499.47|\n",
      "|  11748|385afb8b|        Jan-09|      4|362e42e0|  357.96|\n",
      "|  13285|acd60eca|        Jan-10|      4|572014da|   630.9|\n",
      "|  14832|31976e38|        Jan-11|      4|5ff2d9a7|  685.07|\n",
      "|  15619|fcf3bbf3|        Jan-11|      4|24bf603c|  964.81|\n",
      "|  16574|ca0967a6|        Jan-12|      4|9a118f8d|  919.76|\n",
      "|  18944|bc0de3c7|        Jan-14|      4|65b8a85f|  302.26|\n",
      "|  19204|31db9495|        Jan-14|      4|d7a317f6|  637.18|\n",
      "|  19530|3a63a8fc|        Jan-14|      4|95aac0c4|  630.43|\n",
      "|  20382|f388cc0f|        Jan-15|      4|5411dc34|  374.73|\n",
      "+-------+--------+--------------+-------+--------+--------+\n",
      "only showing top 20 rows"
     ]
    }
   ],
   "source": [
    "transactions_fg = fs.get_feature_group(\"transactions_fg\", 1)\n",
    "transactions_df = transactions_fg.read()\n",
    "transactions_df.show()"
   ]
  },
  {
   "cell_type": "markdown",
   "metadata": {},
   "source": [
    "## Load alert transactions feature group from hsfs"
   ]
  },
  {
   "cell_type": "code",
   "execution_count": 5,
   "metadata": {},
   "outputs": [
    {
     "name": "stdout",
     "output_type": "stream",
     "text": [
      "+------+--------------+-------+--------+\n",
      "|is_sar|    alert_type|tran_id|alert_id|\n",
      "+------+--------------+-------+--------+\n",
      "|  true|gather_scatter| 447977|      52|\n",
      "|  true|scatter_gather| 449282|      23|\n",
      "|  true|gather_scatter| 454797|      52|\n",
      "|  true|gather_scatter| 462363|      68|\n",
      "|  true|gather_scatter| 468776|      68|\n",
      "|  true|scatter_gather| 518050|      26|\n",
      "|  true|scatter_gather| 518475|      10|\n",
      "|  true|scatter_gather| 519362|      26|\n",
      "|  true|scatter_gather| 521249|      26|\n",
      "|  true|gather_scatter| 521357|      65|\n",
      "|  true|scatter_gather| 557238|      25|\n",
      "|  true|scatter_gather| 558782|      25|\n",
      "|  true|gather_scatter| 559459|      61|\n",
      "|  true|gather_scatter| 559460|      61|\n",
      "|  true|gather_scatter| 559567|      69|\n",
      "|  true|gather_scatter| 553958|      69|\n",
      "|  true|scatter_gather| 554411|      25|\n",
      "|  true|gather_scatter| 555697|      61|\n",
      "|  true|gather_scatter| 556608|      61|\n",
      "|  true|gather_scatter| 556609|      61|\n",
      "+------+--------------+-------+--------+\n",
      "only showing top 20 rows"
     ]
    }
   ],
   "source": [
    "alert_transactions_fg = fs.get_feature_group(\"alert_transactions_fg\", 1)\n",
    "alert_transactions_df = alert_transactions_fg.read()\n",
    "alert_transactions_df.show()"
   ]
  },
  {
   "cell_type": "markdown",
   "metadata": {},
   "source": [
    "## Load party feature group from hsfs"
   ]
  },
  {
   "cell_type": "code",
   "execution_count": 6,
   "metadata": {},
   "outputs": [
    {
     "name": "stdout",
     "output_type": "stream",
     "text": [
      "+----+--------+\n",
      "|type|      id|\n",
      "+----+--------+\n",
      "|   0|5628bd6c|\n",
      "|   0|a1fcba39|\n",
      "|   1|f56c9501|\n",
      "|   0|9969afdd|\n",
      "|   1|b356eeae|\n",
      "|   0|3406706a|\n",
      "|   0|26c56102|\n",
      "|   1|e386ebf7|\n",
      "|   1|8c094b0d|\n",
      "|   1|939235aa|\n",
      "|   0|de6bf2a5|\n",
      "|   0|33a8ff5b|\n",
      "|   1|a32807a1|\n",
      "|   0|2906ef08|\n",
      "|   1|c2a01b8d|\n",
      "|   1|5a99160f|\n",
      "|   0|8b9017b8|\n",
      "|   1|fcf3bbf3|\n",
      "|   0|5132aa4d|\n",
      "|   1|68b90958|\n",
      "+----+--------+\n",
      "only showing top 20 rows"
     ]
    }
   ],
   "source": [
    "party_fg = fs.get_feature_group(\"party_fg\", 1)\n",
    "party_df = party_fg.read()\n",
    "party_df.show()"
   ]
  },
  {
   "cell_type": "code",
   "execution_count": null,
   "metadata": {},
   "outputs": [],
   "source": []
  },
  {
   "cell_type": "markdown",
   "metadata": {},
   "source": [
    "## Create graph edge training dataset"
   ]
  },
  {
   "cell_type": "code",
   "execution_count": 7,
   "metadata": {},
   "outputs": [
    {
     "name": "stdout",
     "output_type": "stream",
     "text": [
      "915"
     ]
    }
   ],
   "source": [
    "alert_transactions_df.count()"
   ]
  },
  {
   "cell_type": "code",
   "execution_count": 8,
   "metadata": {},
   "outputs": [
    {
     "name": "stdout",
     "output_type": "stream",
     "text": [
      "438386"
     ]
    }
   ],
   "source": [
    "transactions_df.count()"
   ]
  },
  {
   "cell_type": "code",
   "execution_count": 9,
   "metadata": {},
   "outputs": [],
   "source": [
    "edges = transactions_df.join(alert_transactions_df,[\"tran_id\"],\"left\")\n",
    "edges = edges.withColumn(\"is_sar\",F.when(F.col(\"is_sar\") == \"true\", 1).otherwise(0))\\\n",
    "             .select(\"src\",\"dst\",\"tx_type\",\"base_amt\",\"tran_id\",\"is_sar\")\\\n",
    "             .toDF('source', 'target', 'tx_type', 'base_amt', 'tran_id', 'is_sar')"
   ]
  },
  {
   "cell_type": "code",
   "execution_count": 10,
   "metadata": {},
   "outputs": [
    {
     "name": "stdout",
     "output_type": "stream",
     "text": [
      "+--------+--------+-------+--------+-------+------+\n",
      "|  source|  target|tx_type|base_amt|tran_id|is_sar|\n",
      "+--------+--------+-------+--------+-------+------+\n",
      "|3aa9646b|1e46e726|      4|  858.77|    496|     0|\n",
      "|49203bc3|a74d1101|      4|  386.86|   1342|     0|\n",
      "|616d4505|99af2455|      4|  616.43|   1580|     0|\n",
      "|39be1ea2|e7ec7bdb|      4|  146.44|   2866|     0|\n",
      "|e2e0d938|afc399a9|      4|  439.09|   3997|     0|\n",
      "|75c9a805|d7a317f6|      4|   361.0|   5518|     0|\n",
      "|c14f4989|733a496b|      4|  768.98|   7340|     0|\n",
      "|576eb672|aa49b0eb|      4|   943.4|   9376|     0|\n",
      "|847a9cf6|b070a6bb|      4|   668.3|  10362|     0|\n",
      "|12a388ff|586377aa|      4|  139.84|  10817|     0|\n",
      "|b36f9c84|1b467848|      4|  499.47|  11317|     0|\n",
      "|362e42e0|385afb8b|      4|  357.96|  11748|     0|\n",
      "|572014da|acd60eca|      4|   630.9|  13285|     0|\n",
      "|5ff2d9a7|31976e38|      4|  685.07|  14832|     0|\n",
      "|24bf603c|fcf3bbf3|      4|  964.81|  15619|     0|\n",
      "|9a118f8d|ca0967a6|      4|  919.76|  16574|     0|\n",
      "|65b8a85f|bc0de3c7|      4|  302.26|  18944|     0|\n",
      "|d7a317f6|31db9495|      4|  637.18|  19204|     0|\n",
      "|95aac0c4|3a63a8fc|      4|  630.43|  19530|     0|\n",
      "|5411dc34|f388cc0f|      4|  374.73|  20382|     0|\n",
      "+--------+--------+-------+--------+-------+------+\n",
      "only showing top 20 rows"
     ]
    }
   ],
   "source": [
    "edges.show()"
   ]
  },
  {
   "cell_type": "code",
   "execution_count": 11,
   "metadata": {},
   "outputs": [
    {
     "name": "stdout",
     "output_type": "stream",
     "text": [
      "438386"
     ]
    }
   ],
   "source": [
    "edges.count()"
   ]
  },
  {
   "cell_type": "code",
   "execution_count": 12,
   "metadata": {},
   "outputs": [
    {
     "name": "stdout",
     "output_type": "stream",
     "text": [
      "915"
     ]
    }
   ],
   "source": [
    "edges.where(F.col(\"is_sar\")==1).count()"
   ]
  },
  {
   "cell_type": "code",
   "execution_count": 13,
   "metadata": {},
   "outputs": [
    {
     "name": "stdout",
     "output_type": "stream",
     "text": [
      "<hsfs.training_dataset.TrainingDataset object at 0x7f1b272dcc90>"
     ]
    }
   ],
   "source": [
    "edges_td_meta = fs.create_training_dataset(name=\"edges_td\",\n",
    "                                       version=1,\n",
    "                                       data_format=\"csv\",\n",
    "                                       label = [\"is_sar\"],   \n",
    "                                       description=\"edges training dataset\")\n",
    "edges_td_meta.save(edges)"
   ]
  },
  {
   "cell_type": "markdown",
   "metadata": {},
   "source": [
    "## Create graph node training dataset"
   ]
  },
  {
   "cell_type": "code",
   "execution_count": 14,
   "metadata": {},
   "outputs": [
    {
     "name": "stdout",
     "output_type": "stream",
     "text": [
      "+--------+\n",
      "|      id|\n",
      "+--------+\n",
      "|fcf3bbf3|\n",
      "|9969afdd|\n",
      "|a1fcba39|\n",
      "|d7a0ca48|\n",
      "|43e028ef|\n",
      "|a9edaba6|\n",
      "|3406706a|\n",
      "|b356eeae|\n",
      "|de6bf2a5|\n",
      "|f7e4e741|\n",
      "|33a8ff5b|\n",
      "|2906ef08|\n",
      "|3406d993|\n",
      "|f56c9501|\n",
      "|26c56102|\n",
      "|8b9017b8|\n",
      "|8c094b0d|\n",
      "|243b1e8b|\n",
      "|5628bd6c|\n",
      "|c2a01b8d|\n",
      "+--------+\n",
      "only showing top 20 rows"
     ]
    }
   ],
   "source": [
    "sources = edges.select([\"source\"]).toDF(\"id\")\n",
    "targets = edges.select([\"target\"]).toDF(\"id\")\n",
    "nodes = sources.union(targets).dropDuplicates(subset=[\"id\"])\n",
    "nodes.show()"
   ]
  },
  {
   "cell_type": "code",
   "execution_count": 15,
   "metadata": {},
   "outputs": [
    {
     "name": "stdout",
     "output_type": "stream",
     "text": [
      "7347"
     ]
    }
   ],
   "source": [
    "nodes.count()"
   ]
  },
  {
   "cell_type": "code",
   "execution_count": 16,
   "metadata": {},
   "outputs": [
    {
     "name": "stdout",
     "output_type": "stream",
     "text": [
      "7347"
     ]
    }
   ],
   "source": [
    "nodes_td = nodes.join(party_df, [\"id\"])\n",
    "nodes_td.count()"
   ]
  },
  {
   "cell_type": "code",
   "execution_count": 17,
   "metadata": {},
   "outputs": [
    {
     "name": "stdout",
     "output_type": "stream",
     "text": [
      "+--------+----+\n",
      "|      id|type|\n",
      "+--------+----+\n",
      "|26c56102|   0|\n",
      "|9969afdd|   0|\n",
      "|2906ef08|   0|\n",
      "|5a99160f|   1|\n",
      "|de6bf2a5|   0|\n",
      "|b356eeae|   1|\n",
      "|f56c9501|   1|\n",
      "|a32807a1|   1|\n",
      "|939235aa|   1|\n",
      "|e386ebf7|   1|\n",
      "|33a8ff5b|   0|\n",
      "|a9edaba6|   0|\n",
      "|8c094b0d|   1|\n",
      "|fcf3bbf3|   1|\n",
      "|5628bd6c|   0|\n",
      "|a1fcba39|   0|\n",
      "|c2a01b8d|   1|\n",
      "|7138cbc6|   1|\n",
      "|3406706a|   0|\n",
      "|68b90958|   1|\n",
      "+--------+----+\n",
      "only showing top 20 rows"
     ]
    }
   ],
   "source": [
    "nodes_td.show()"
   ]
  },
  {
   "cell_type": "code",
   "execution_count": 18,
   "metadata": {},
   "outputs": [
    {
     "name": "stdout",
     "output_type": "stream",
     "text": [
      "<hsfs.training_dataset.TrainingDataset object at 0x7f1b27771f90>"
     ]
    }
   ],
   "source": [
    "node_td_meta = fs.create_training_dataset(name=\"node_td\",\n",
    "                                       version=1,\n",
    "                                       data_format=\"csv\",   \n",
    "                                       description=\"node training dataset\")\n",
    "node_td_meta.save(nodes_td)"
   ]
  }
 ],
 "metadata": {
  "kernelspec": {
   "display_name": "PySpark",
   "language": "python",
   "name": "pysparkkernel"
  },
  "language_info": {
   "codemirror_mode": {
    "name": "python",
    "version": 3
   },
   "mimetype": "text/x-python",
   "name": "pyspark",
   "pygments_lexer": "python3"
  }
 },
 "nbformat": 4,
 "nbformat_minor": 4
}
