{
 "cells": [
  {
   "cell_type": "markdown",
   "metadata": {},
   "source": [
    "## In this notebook we will ingest computed node embeddings as feature groups and also prepare training datasets for anomaly detection model training  \n",
    "\n",
    "---\n",
    "**NOTE**: \n",
    "\n",
    "In real life scenarios financial transaction are dynamically evolving graphs. If live Transaction Monitoring System is based on graph or node embeddings then this will require 1st to update the graph and node representations after new transactions arrive. Recomputing entire graph for every newly arrived transaction will lead to unaxeptable delayes and even monitoring system failures. This problem  will be more sever if large amount of updates happen in a short time window.\n",
    "\n",
    "Contact us at Logical Clocks and we will help you to setup end to end graph based deep anomaly detection live Transaction Monitoring Systems. \n",
    "\n",
    "---"
   ]
  },
  {
   "cell_type": "markdown",
   "metadata": {},
   "source": [
    "## Query Model Repository for best node embeddings model"
   ]
  },
  {
   "cell_type": "code",
   "execution_count": 1,
   "metadata": {},
   "outputs": [
    {
     "name": "stdout",
     "output_type": "stream",
     "text": [
      "Starting Spark application\n"
     ]
    },
    {
     "data": {
      "text/html": [
       "<table>\n",
       "<tr><th>ID</th><th>YARN Application ID</th><th>Kind</th><th>State</th><th>Spark UI</th><th>Driver log</th></tr><tr><td>48</td><td>application_1610641989196_0313</td><td>pyspark</td><td>idle</td><td><a target=\"_blank\" href=\"http://resourcemanager.service.consul:8088/proxy/application_1610641989196_0313/\">Link</a></td><td><a target=\"_blank\" href=\"http://jimeuwest-worker-2.internal.cloudapp.net:8042/node/containerlogs/container_e02_1610641989196_0313_01_000001/amlsim__davit000\">Link</a></td></tr></table>"
      ],
      "text/plain": [
       "<IPython.core.display.HTML object>"
      ]
     },
     "metadata": {},
     "output_type": "display_data"
    },
    {
     "name": "stdout",
     "output_type": "stream",
     "text": [
      "SparkSession available as 'spark'.\n"
     ]
    }
   ],
   "source": [
    "from hops import model\n",
    "from hops.model import Metric\n",
    "MODEL_NAME=\"NodeEmbeddings\"\n",
    "EVALUATION_METRIC=\"accuracy\""
   ]
  },
  {
   "cell_type": "code",
   "execution_count": 2,
   "metadata": {},
   "outputs": [],
   "source": [
    "best_model = model.get_best_model(MODEL_NAME, EVALUATION_METRIC, Metric.MAX)"
   ]
  },
  {
   "cell_type": "code",
   "execution_count": 3,
   "metadata": {},
   "outputs": [
    {
     "name": "stdout",
     "output_type": "stream",
     "text": [
      "'application_1610641989196_0310_1'"
     ]
    }
   ],
   "source": [
    "best_model['experimentId']"
   ]
  },
  {
   "cell_type": "markdown",
   "metadata": {},
   "source": [
    "## Define model and load wights "
   ]
  },
  {
   "cell_type": "code",
   "execution_count": 4,
   "metadata": {},
   "outputs": [],
   "source": [
    "import tensorflow as tf\n",
    "from tensorflow import keras  \n",
    "\n",
    "import pandas as pd\n",
    "from stellargraph import StellarDiGraph\n",
    "from stellargraph.mapper import Node2VecLinkGenerator, Node2VecNodeGenerator\n",
    "from stellargraph.data import UnsupervisedSampler, BiasedRandomWalk\n",
    "from stellargraph.layer import Node2Vec\n",
    "import pydoop.hdfs as pydoop\n",
    "from pyspark.sql import functions as F\n",
    "from pyspark.sql.functions import array, coalesce, concat,  col\n",
    "\n",
    "import hsfs\n",
    "from hops import hdfs\n"
   ]
  },
  {
   "cell_type": "code",
   "execution_count": 5,
   "metadata": {},
   "outputs": [
    {
     "name": "stdout",
     "output_type": "stream",
     "text": [
      "Connected. Call `.close()` to terminate connection gracefully."
     ]
    }
   ],
   "source": [
    "# Create a connection\n",
    "connection = hsfs.connection()\n",
    "# Get the feature store handle for the project's feature store\n",
    "fs = connection.get_feature_store()"
   ]
  },
  {
   "cell_type": "code",
   "execution_count": 6,
   "metadata": {},
   "outputs": [],
   "source": [
    "node_td = fs.get_training_dataset(\"node_td\", 1)\n",
    "edge_td = fs.get_training_dataset(\"edges_td\", 1)"
   ]
  },
  {
   "cell_type": "code",
   "execution_count": 7,
   "metadata": {},
   "outputs": [],
   "source": [
    "# Get fg as pandas\n",
    "node_pdf = node_td.read().toPandas()\n",
    "edge_pdf = edge_td.read().drop(\"tran_timestamp\").toPandas()"
   ]
  },
  {
   "cell_type": "code",
   "execution_count": 8,
   "metadata": {},
   "outputs": [
    {
     "name": "stdout",
     "output_type": "stream",
     "text": [
      "Defining StellarDiGraph"
     ]
    }
   ],
   "source": [
    "node_data = pd.DataFrame(node_pdf[['type']], index=node_pdf['id'])\n",
    "\n",
    "print('Defining StellarDiGraph')\n",
    "G =StellarDiGraph(node_data,\n",
    "                      edges=edge_pdf, \n",
    "                      edge_type_column=\"tx_type\")\n"
   ]
  },
  {
   "cell_type": "code",
   "execution_count": 32,
   "metadata": {},
   "outputs": [],
   "source": [
    "from hops import experiment\n",
    "from hops import hdfs\n",
    "import json\n",
    "best_hyperparams_path = \"Resources/embeddings_best_hp.json\"\n",
    "best_hyperparams = json.loads(hdfs.load(best_hyperparams_path))\n",
    "args_dict = {}\n",
    "for key in best_hyperparams.keys():\n",
    "    args_dict[key] = [best_hyperparams[key]]\n",
    "    \n",
    "#args_dict =  {\"walk_number\": [40], \"walk_length\": [5], \"emb_size\": [128]}        "
   ]
  },
  {
   "cell_type": "code",
   "execution_count": 33,
   "metadata": {},
   "outputs": [],
   "source": [
    "walk_number = args_dict['walk_number']\n",
    "walk_length = args_dict['walk_length']\n",
    "batch_size = 1\n",
    "emb_size = args_dict['emb_size'][0]\n",
    "# Extracting node embeddings\n",
    "walker = BiasedRandomWalk(\n",
    "        G,\n",
    "        n=walk_number,\n",
    "        length=walk_length,\n",
    "        p=0.5,  # defines probability, 1/p, of returning to source node\n",
    "        q=2.0,  # defines probability, 1/q, for moving to a node away from the source node\n",
    "    )\n",
    "unsupervised_samples = UnsupervisedSampler(G, nodes=list(G.nodes()), walker=walker)\n",
    "generator = Node2VecLinkGenerator(G, batch_size)\n",
    "\n",
    "node2vec = Node2Vec(emb_size, generator=generator)\n",
    "x_inp, x_out = node2vec.in_out_tensors()\n",
    "\n",
    "x_inp_src = x_inp[0]\n",
    "x_out_src = x_out[0]\n",
    "embedding_model = keras.Model(inputs=x_inp_src, outputs=x_out_src)"
   ]
  },
  {
   "cell_type": "code",
   "execution_count": 34,
   "metadata": {},
   "outputs": [
    {
     "name": "stdout",
     "output_type": "stream",
     "text": [
      "<tensorflow.python.training.tracking.util.CheckpointLoadStatus object at 0x7f1ee3638e10>"
     ]
    }
   ],
   "source": [
    "latest = tf.train.latest_checkpoint(\"hdfs:///Projects/{}/Experiments/\".format(hdfs.project_name()) + best_model['experimentId'])\n",
    "embedding_model.load_weights(latest)"
   ]
  },
  {
   "cell_type": "code",
   "execution_count": 35,
   "metadata": {},
   "outputs": [],
   "source": [
    "nodes = list(G.nodes())\n",
    "node_gen = Node2VecNodeGenerator(G, batch_size).flow(nodes)"
   ]
  },
  {
   "cell_type": "code",
   "execution_count": 36,
   "metadata": {},
   "outputs": [],
   "source": [
    "import numpy as np\n",
    "import pandas as pd \n",
    "\n",
    "pdf = pd.DataFrame(embedding_model.predict(node_gen), index=G.nodes())\n",
    "emb_feature_names = [\"em_\" + str(c)  for c in pdf.columns]\n",
    "pdf.columns = emb_feature_names\n",
    "pdf['id'] = pdf.index\n",
    "node_embeddings_df = spark.createDataFrame(pdf)"
   ]
  },
  {
   "cell_type": "code",
   "execution_count": 37,
   "metadata": {},
   "outputs": [
    {
     "name": "stdout",
     "output_type": "stream",
     "text": [
      "+--------------------+-------------------+-------------------+-------------------+--------------------+--------------------+-------------------+-------------------+--------------------+------------------+-------------------+-------------------+-------------------+------------------+------------------+------------------+-------------------+--------------------+--------------------+-------------------+------------------+--------------------+------------------+------------------+-------------------+--------------------+------------------+--------------------+-------------------+-------------------+--------------------+--------------------+--------------------+-------------------+-------------------+-------------------+------------------+-------------------+--------------------+-------------------+-------------------+--------------------+-------------------+------------------+--------------------+-------------------+-------------------+------------------+--------------------+-------------------+--------------------+-------------------+--------------------+------------------+------------------+-------------------+------------------+-------------------+--------------------+-------------------+-----------------+-------------------+--------------------+------------------+-------------------+-------------------+--------------------+-------------------+--------------------+------------------+-------------------+-------------------+-------------------+-------------------+-------------------+--------------------+-------------------+--------------------+--------------------+-------------------+--------------------+--------------------+-------------------+-------------------+-------------------+-------------------+-------------------+--------------------+--------------------+-------------------+--------------------+-------------------+--------------------+--------------------+-------------------+-------------------+--------------------+--------------------+--------------------+------------------+------------------+-------------------+------------------+--------------------+-------------------+-------------------+-------------------+-------------------+-------------------+--------------------+-------------------+-------------------+--------------------+-------------------+--------------------+-------------------+------------------+-------------------+--------------------+-------------------+--------------------+--------------------+-------------------+-------------------+------------------+--------------------+--------------------+--------------------+--------+\n",
      "|                em_0|               em_1|               em_2|               em_3|                em_4|                em_5|               em_6|               em_7|                em_8|              em_9|              em_10|              em_11|              em_12|             em_13|             em_14|             em_15|              em_16|               em_17|               em_18|              em_19|             em_20|               em_21|             em_22|             em_23|              em_24|               em_25|             em_26|               em_27|              em_28|              em_29|               em_30|               em_31|               em_32|              em_33|              em_34|              em_35|             em_36|              em_37|               em_38|              em_39|              em_40|               em_41|              em_42|             em_43|               em_44|              em_45|              em_46|             em_47|               em_48|              em_49|               em_50|              em_51|               em_52|             em_53|             em_54|              em_55|             em_56|              em_57|               em_58|              em_59|            em_60|              em_61|               em_62|             em_63|              em_64|              em_65|               em_66|              em_67|               em_68|             em_69|              em_70|              em_71|              em_72|              em_73|              em_74|               em_75|              em_76|               em_77|               em_78|              em_79|               em_80|               em_81|              em_82|              em_83|              em_84|              em_85|              em_86|               em_87|               em_88|              em_89|               em_90|              em_91|               em_92|               em_93|              em_94|              em_95|               em_96|               em_97|               em_98|             em_99|            em_100|             em_101|            em_102|              em_103|             em_104|             em_105|             em_106|             em_107|             em_108|              em_109|             em_110|             em_111|              em_112|             em_113|              em_114|             em_115|            em_116|             em_117|              em_118|             em_119|              em_120|              em_121|             em_122|             em_123|            em_124|              em_125|              em_126|              em_127|      id|\n",
      "+--------------------+-------------------+-------------------+-------------------+--------------------+--------------------+-------------------+-------------------+--------------------+------------------+-------------------+-------------------+-------------------+------------------+------------------+------------------+-------------------+--------------------+--------------------+-------------------+------------------+--------------------+------------------+------------------+-------------------+--------------------+------------------+--------------------+-------------------+-------------------+--------------------+--------------------+--------------------+-------------------+-------------------+-------------------+------------------+-------------------+--------------------+-------------------+-------------------+--------------------+-------------------+------------------+--------------------+-------------------+-------------------+------------------+--------------------+-------------------+--------------------+-------------------+--------------------+------------------+------------------+-------------------+------------------+-------------------+--------------------+-------------------+-----------------+-------------------+--------------------+------------------+-------------------+-------------------+--------------------+-------------------+--------------------+------------------+-------------------+-------------------+-------------------+-------------------+-------------------+--------------------+-------------------+--------------------+--------------------+-------------------+--------------------+--------------------+-------------------+-------------------+-------------------+-------------------+-------------------+--------------------+--------------------+-------------------+--------------------+-------------------+--------------------+--------------------+-------------------+-------------------+--------------------+--------------------+--------------------+------------------+------------------+-------------------+------------------+--------------------+-------------------+-------------------+-------------------+-------------------+-------------------+--------------------+-------------------+-------------------+--------------------+-------------------+--------------------+-------------------+------------------+-------------------+--------------------+-------------------+--------------------+--------------------+-------------------+-------------------+------------------+--------------------+--------------------+--------------------+--------+\n",
      "| -0.4621334671974182| 1.2790459394454956| 0.2628253996372223|0.48080185055732727|-0.27509093284606934| -0.9360094666481018|0.35375282168388367|-0.8461136817932129|  1.6720236539840698|0.3807697892189026|-0.9542011618614197|  1.201345443725586|0.04472671449184418|1.7792085409164429|0.3537672460079193|0.6935584545135498| -1.019154667854309|-0.43302056193351746| -1.1297457218170166|-1.3714187145233154| 1.375066876411438| -1.5477139949798584|0.9844521284103394|0.3357291519641876| 0.1077452227473259|  0.3987194299697876|1.7432516813278198|-0.42854446172714233|-1.0382450819015503| 0.3157433867454529|-0.40000998973846436|-0.03842002898454666|-0.00389861781150...|-1.2801742553710938|-0.5608893632888794| 0.1852598339319229| 1.938704252243042|-1.8446714878082275| -0.8634558320045471|-0.9803304672241211| 0.5182076692581177| 0.24692648649215698|0.45290303230285645|-0.695853054523468|-0.19010582566261292|0.06267879903316498| -1.250893473625183|0.6186127066612244| 0.05784687027335167|-0.3807186782360077|-0.43022438883781433|-0.5864613056182861|  0.4146808385848999|1.1247137784957886|1.1253448724746704|-1.4019604921340942| 0.834655225276947| 1.3764457702636719|-0.17443419992923737|0.47168877720832825|0.617673933506012| 0.2528133988380432| -0.7307742834091187|0.6982192397117615|-0.9525989890098572| 0.4395299553871155|-0.16293716430664062|-1.9805831909179688|-0.01003860123455...| 1.576073169708252|-0.4043264091014862| -1.179490089416504|-0.4749014973640442|-1.4203258752822876| 0.3733902871608734|-0.29588353633880615|0.21988309919834137|  1.2619354724884033|-0.44468921422958374|0.19086585938930511|-0.02662894502282...| 0.34141647815704346|0.22448277473449707| 1.2026340961456299|-0.9806098341941833| 0.3176034986972809|-0.7114606499671936|0.003510470502078533|-0.23237329721450806|-0.8706697821617126|  1.5857174396514893|-1.3950730562210083|0.026437129825353622|  1.0149099826812744|0.48686307668685913| 0.7810736894607544|-0.45134440064430237|-0.21488115191459656|-0.43744218349456787|0.5087335705757141|0.7486085891723633|-0.2596878707408905|0.8478009104728699|  0.9362618327140808|-1.2870724201202393|-0.5925964713096619|-0.4690077006816864| 0.1440020054578781|-0.7426619529724121|0.013570870272815228|-0.6951360106468201|-0.3704414665699005|  0.4669094681739807|-1.5384151935577393|  0.7692901492118835| 0.5414561629295349|0.4519401490688324|-0.7302784323692322| -0.6554981470108032|0.08429545164108276|0.038973044604063034|-0.36131975054740906| 0.7647132277488708|-1.7239806652069092|0.5194050073623657|-0.17097227275371552| -0.9298827648162842|  0.9073165059089661|3ecbda2f|\n",
      "|-0.00149195094127208|-0.5012315511703491|-0.6654295921325684| 0.7044988870620728|-0.46132299304008484|-0.21563267707824707| 0.2877061367034912|-0.8075698614120483|-0.11130163073539734|0.8289967179298401|0.49094000458717346|-0.2931017279624939|  1.535763144493103|0.6473211050033569|1.0728577375411987| 0.757205069065094|0.20509059727191925|-0.12506799399852753|-0.06437885761260986|0.31321924924850464|1.7324786186218262|-0.44632092118263245|0.1709176003932953|0.6946669220924377|0.15410767495632172|-0.48222512006759644| 1.679660677909851| -0.8109460473060608| 1.2207014560699463|-0.2785276174545288| -1.1654479503631592|  0.7011979222297668| 0.03883608803153038|-0.2787116765975952| 0.4388437569141388|-0.7993390560150146|2.7965025901794434|0.36088892817497253|-0.18449826538562775| 0.4869401454925537|-0.3041776418685913|-0.28185582160949707| 1.6228903532028198|0.2253163456916809|  0.4013511836528778|-0.5221825242042542|-0.4136320948600769|0.3187314569950104|-0.01458828151226...| 0.6463967561721802| -0.7109951376914978|-0.8916447758674622|-0.06860660016536713|0.5074111223220825|0.5000690221786499|-0.5326184630393982|0.6180625557899475|0.13062098622322083| -0.6380314826965332| -1.871283769607544|0.918761134147644|-0.8024582266807556|0.025080325081944466|-0.701004147529602|-0.0425199493765831|0.02427641674876213|  0.4177109897136688|-1.2842955589294434| -0.8476212620735168|0.1566690057516098| -1.231996774673462|-1.0937494039535522|-1.4524778127670288| 0.2317436784505844|0.47612765431404114|  1.0138702392578125|-0.8516814708709717|-0.06978641450405121| -1.9060672521591187|  -1.59730863571167|  -1.619470238685608|-0.09549108147621155|-1.6495879888534546|-1.5031211376190186| -1.158226728439331|0.19066530466079712|-1.0201442241668701|  1.1946296691894531| 0.23140186071395874|-0.9822409152984619|-0.08902785181999207| 0.1672985553741455| -1.4460952281951904|-0.30701684951782227|-1.1339919567108154|-0.2148682028055191|  0.5329031944274902|-0.44582241773605347|0.012903505936264992|-0.752666711807251|0.5902009010314941|  1.004673957824707| 1.270701289176941|-0.45836442708969116| 0.5315550565719604|-1.1760956048965454|-1.2417550086975098|-0.0388517752289772| 0.8147020936012268|-0.17117072641849518|0.24031952023506165|-1.0334709882736206|-0.28970223665237427|  1.229116678237915|-0.00116669118870...|-0.4461821913719177| 1.285990595817566|-1.3721940517425537|0.010891626589000225| 0.5145696997642517|-0.27788227796554565|   0.855055034160614|-1.5040204524993896|-0.8023020029067993|0.6312282085418701| -0.6960709691047668|-0.46821489930152893|-0.08529065549373627|94905b67|\n",
      "+--------------------+-------------------+-------------------+-------------------+--------------------+--------------------+-------------------+-------------------+--------------------+------------------+-------------------+-------------------+-------------------+------------------+------------------+------------------+-------------------+--------------------+--------------------+-------------------+------------------+--------------------+------------------+------------------+-------------------+--------------------+------------------+--------------------+-------------------+-------------------+--------------------+--------------------+--------------------+-------------------+-------------------+-------------------+------------------+-------------------+--------------------+-------------------+-------------------+--------------------+-------------------+------------------+--------------------+-------------------+-------------------+------------------+--------------------+-------------------+--------------------+-------------------+--------------------+------------------+------------------+-------------------+------------------+-------------------+--------------------+-------------------+-----------------+-------------------+--------------------+------------------+-------------------+-------------------+--------------------+-------------------+--------------------+------------------+-------------------+-------------------+-------------------+-------------------+-------------------+--------------------+-------------------+--------------------+--------------------+-------------------+--------------------+--------------------+-------------------+-------------------+-------------------+-------------------+-------------------+--------------------+--------------------+-------------------+--------------------+-------------------+--------------------+--------------------+-------------------+-------------------+--------------------+--------------------+--------------------+------------------+------------------+-------------------+------------------+--------------------+-------------------+-------------------+-------------------+-------------------+-------------------+--------------------+-------------------+-------------------+--------------------+-------------------+--------------------+-------------------+------------------+-------------------+--------------------+-------------------+--------------------+--------------------+-------------------+-------------------+------------------+--------------------+--------------------+--------------------+--------+\n",
      "only showing top 2 rows"
     ]
    }
   ],
   "source": [
    "node_embeddings_df.show(2)"
   ]
  },
  {
   "cell_type": "markdown",
   "metadata": {},
   "source": [
    "## Create a connection to hsfs"
   ]
  },
  {
   "cell_type": "code",
   "execution_count": 38,
   "metadata": {},
   "outputs": [
    {
     "name": "stdout",
     "output_type": "stream",
     "text": [
      "Connected. Call `.close()` to terminate connection gracefully."
     ]
    }
   ],
   "source": [
    "import hsfs\n",
    "from hops import hdfs\n",
    "# Create a connection\n",
    "connection = hsfs.connection()\n",
    "# Get the feature store handle for the project's feature store\n",
    "fs = connection.get_feature_store()"
   ]
  },
  {
   "cell_type": "markdown",
   "metadata": {},
   "source": [
    "## Retrieve nodes training dataset from hsfs and determine whether node was part of the previously known money laundering scheme or not "
   ]
  },
  {
   "cell_type": "code",
   "execution_count": 39,
   "metadata": {},
   "outputs": [
    {
     "name": "stdout",
     "output_type": "stream",
     "text": [
      "+--------+----+\n",
      "|      id|type|\n",
      "+--------+----+\n",
      "|3ecbda2f|   0|\n",
      "|94905b67|   0|\n",
      "|58986dcf|   0|\n",
      "|d1e2cc07|   1|\n",
      "|344ba0e2|   1|\n",
      "+--------+----+\n",
      "only showing top 5 rows"
     ]
    }
   ],
   "source": [
    "node_td = fs.get_training_dataset(\"node_td\", 1)\n",
    "node_td.show(5)"
   ]
  },
  {
   "cell_type": "code",
   "execution_count": 40,
   "metadata": {},
   "outputs": [
    {
     "name": "stdout",
     "output_type": "stream",
     "text": [
      "+--------+--------+-------+--------+-------+------+\n",
      "|  source|  target|tx_type|base_amt|tran_id|is_sar|\n",
      "+--------+--------+-------+--------+-------+------+\n",
      "|3aa9646b|1e46e726|      4|  858.77|    496|     0|\n",
      "|49203bc3|a74d1101|      4|  386.86|   1342|     0|\n",
      "|616d4505|99af2455|      4|  616.43|   1580|     0|\n",
      "|39be1ea2|e7ec7bdb|      4|  146.44|   2866|     0|\n",
      "|e2e0d938|afc399a9|      4|  439.09|   3997|     0|\n",
      "+--------+--------+-------+--------+-------+------+\n",
      "only showing top 5 rows"
     ]
    }
   ],
   "source": [
    "edges_td = fs.get_training_dataset(\"edges_td\", 1)\n",
    "edges_td.show(5)"
   ]
  },
  {
   "cell_type": "code",
   "execution_count": 41,
   "metadata": {},
   "outputs": [
    {
     "name": "stdout",
     "output_type": "stream",
     "text": [
      "+--------+------+\n",
      "|      id|is_sar|\n",
      "+--------+------+\n",
      "|33a8ff5b|     1|\n",
      "|43e028ef|     1|\n",
      "|fcf3bbf3|     1|\n",
      "|8b9017b8|     1|\n",
      "|d73e5230|     1|\n",
      "|68c0230d|     1|\n",
      "|9c187eed|     1|\n",
      "|65636b63|     1|\n",
      "|550a25ff|     1|\n",
      "|c0be245b|     1|\n",
      "|cdbd2ed5|     1|\n",
      "|963b978f|     1|\n",
      "|84563a83|     1|\n",
      "|da77c74b|     1|\n",
      "|840701de|     1|\n",
      "|d7c99aa5|     1|\n",
      "|b0f4351c|     1|\n",
      "|dd2ebcf1|     1|\n",
      "|dc37f73b|     1|\n",
      "|c29d75dc|     1|\n",
      "+--------+------+\n",
      "only showing top 20 rows"
     ]
    }
   ],
   "source": [
    "alert_edges = edges_td.read().where(F.col(\"is_sar\")==1)\n",
    "alert_sources = alert_edges.select([\"source\"]).toDF(\"id\")\n",
    "alert_targets = alert_edges.select([\"target\"]).toDF(\"id\")\n",
    "alert_nodes = alert_sources.union(alert_targets).dropDuplicates(subset=[\"id\"])\n",
    "alert_nodes = alert_nodes.withColumn(\"is_sar\",F.lit(1))\n",
    "alert_nodes.show()"
   ]
  },
  {
   "cell_type": "code",
   "execution_count": 42,
   "metadata": {},
   "outputs": [
    {
     "name": "stdout",
     "output_type": "stream",
     "text": [
      "+--------+------+\n",
      "|      id|is_sar|\n",
      "+--------+------+\n",
      "|01fdc089|     0|\n",
      "|1a14903a|     0|\n",
      "|243b1e8b|     0|\n",
      "|26c56102|     0|\n",
      "|2906ef08|     0|\n",
      "|33a8ff5b|     1|\n",
      "|3406706a|     0|\n",
      "|3406d993|     0|\n",
      "|43e028ef|     1|\n",
      "|4b46d80d|     0|\n",
      "|5132aa4d|     0|\n",
      "|5628bd6c|     0|\n",
      "|5645140a|     0|\n",
      "|5a99160f|     0|\n",
      "|5c01ec6e|     0|\n",
      "|62827917|     0|\n",
      "|68b90958|     0|\n",
      "|7138cbc6|     0|\n",
      "|8b9017b8|     1|\n",
      "|8c094b0d|     0|\n",
      "+--------+------+\n",
      "only showing top 20 rows"
     ]
    }
   ],
   "source": [
    "node_embeddings_df = node_embeddings_df.join(alert_nodes,['id'],\"left\")\n",
    "node_embeddings_df = node_embeddings_df.withColumn(\"is_sar\",F.when(F.col(\"is_sar\") == 1, F.col(\"is_sar\")).otherwise(0))\n",
    "node_embeddings_df.select(\"id\",\"is_sar\").show()"
   ]
  },
  {
   "cell_type": "code",
   "execution_count": 43,
   "metadata": {},
   "outputs": [
    {
     "name": "stdout",
     "output_type": "stream",
     "text": [
      "7347"
     ]
    }
   ],
   "source": [
    "node_embeddings_df.count()"
   ]
  },
  {
   "cell_type": "code",
   "execution_count": 44,
   "metadata": {},
   "outputs": [],
   "source": [
    "emb_td = node_embeddings_df.drop(\"id\").withColumn(\"embedding\", array(emb_feature_names)).select(\"is_sar\",\"embedding\").withColumnRenamed(\"is_sar\",\"target\")"
   ]
  },
  {
   "cell_type": "code",
   "execution_count": 45,
   "metadata": {},
   "outputs": [
    {
     "name": "stdout",
     "output_type": "stream",
     "text": [
      "+------+--------------------+\n",
      "|target|           embedding|\n",
      "+------+--------------------+\n",
      "|     0|[-0.6491660475730...|\n",
      "|     0|[0.16567891836166...|\n",
      "|     0|[0.69333243370056...|\n",
      "|     0|[0.54457509517669...|\n",
      "|     0|[1.23104929924011...|\n",
      "|     1|[1.41458630561828...|\n",
      "|     0|[-0.5644226074218...|\n",
      "|     0|[-0.1396678537130...|\n",
      "|     1|[0.32902047038078...|\n",
      "|     0|[0.68495726585388...|\n",
      "|     0|[0.25324296951293...|\n",
      "|     0|[0.16157278418540...|\n",
      "|     0|[-0.1060309037566...|\n",
      "|     0|[-0.4138712584972...|\n",
      "|     0|[0.05316721647977...|\n",
      "|     0|[1.20655524730682...|\n",
      "|     0|[0.03192436322569...|\n",
      "|     0|[-0.8102355003356...|\n",
      "|     1|[-1.0093123912811...|\n",
      "|     0|[0.67592638731002...|\n",
      "+------+--------------------+\n",
      "only showing top 20 rows"
     ]
    }
   ],
   "source": [
    "emb_td.show()"
   ]
  },
  {
   "cell_type": "markdown",
   "metadata": {},
   "source": [
    "## Prepare training datasets for anomaly detection \n",
    "###### In the next notebook we are going to train [gan for anomaly detection](https://arxiv.org/pdf/1905.11034.pdf). Durring training step  we will provide only features of accounts that have never been reported for money laundering behaviour.  But we will disclose previously reported accounts to the model only in evaluation step.   "
   ]
  },
  {
   "cell_type": "code",
   "execution_count": 46,
   "metadata": {},
   "outputs": [],
   "source": [
    "non_sar_df = emb_td.where(col(\"target\")==0)"
   ]
  },
  {
   "cell_type": "code",
   "execution_count": 47,
   "metadata": {},
   "outputs": [],
   "source": [
    "sar_df = emb_td.where(col(\"target\")==1)"
   ]
  },
  {
   "cell_type": "code",
   "execution_count": 48,
   "metadata": {},
   "outputs": [],
   "source": [
    "# Now that the data has been prepared, let's split the dataset into a training and test dataframe\n",
    "[non_sar_train_df, non_sar_eval_df] = non_sar_df.randomSplit([0.8, 0.02],seed = 12345)"
   ]
  },
  {
   "cell_type": "code",
   "execution_count": 49,
   "metadata": {},
   "outputs": [
    {
     "name": "stdout",
     "output_type": "stream",
     "text": [
      "<hsfs.training_dataset.TrainingDataset object at 0x7f1e6eec7dd0>"
     ]
    }
   ],
   "source": [
    "non_sar_td = fs.create_training_dataset(name=\"gan_non_sar_training_df\",\n",
    "                                       version=1,\n",
    "                                       data_format=\"tfrecord\",\n",
    "                                       label=[\"target\"], \n",
    "                                       statistics_config=False, \n",
    "                                       description=\"non sar dataset for gan training\")\n",
    "non_sar_td.save(non_sar_train_df)"
   ]
  },
  {
   "cell_type": "code",
   "execution_count": 50,
   "metadata": {},
   "outputs": [],
   "source": [
    "eval_df = non_sar_eval_df.union(sar_df)"
   ]
  },
  {
   "cell_type": "code",
   "execution_count": 51,
   "metadata": {},
   "outputs": [
    {
     "name": "stdout",
     "output_type": "stream",
     "text": [
      "<hsfs.training_dataset.TrainingDataset object at 0x7f1e6e8f1790>"
     ]
    }
   ],
   "source": [
    "gan_eval_ds = fs.create_training_dataset(name=\"gan_eval_df\",\n",
    "                                       version=1,\n",
    "                                       data_format=\"tfrecord\",\n",
    "                                       label=[\"target\"], \n",
    "                                       statistics_config=False, \n",
    "                                       description=\"evaluation dataset for gan training\")\n",
    "gan_eval_ds.save(eval_df)"
   ]
  },
  {
   "cell_type": "code",
   "execution_count": null,
   "metadata": {},
   "outputs": [],
   "source": []
  },
  {
   "cell_type": "code",
   "execution_count": null,
   "metadata": {},
   "outputs": [],
   "source": []
  }
 ],
 "metadata": {
  "kernelspec": {
   "display_name": "PySpark",
   "language": "python",
   "name": "pysparkkernel"
  },
  "language_info": {
   "codemirror_mode": {
    "name": "python",
    "version": 3
   },
   "mimetype": "text/x-python",
   "name": "pyspark",
   "pygments_lexer": "python3"
  }
 },
 "nbformat": 4,
 "nbformat_minor": 4
}
