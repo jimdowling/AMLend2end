{
 "cells": [
  {
   "cell_type": "code",
   "execution_count": 2,
   "metadata": {},
   "outputs": [],
   "source": [
    "import hashlib\n",
    "from datetime import datetime\n",
    "from pyspark.sql import functions as F\n",
    "from pyspark.sql.types import FloatType\n",
    "import hsfs"
   ]
  },
  {
   "cell_type": "code",
   "execution_count": 3,
   "metadata": {},
   "outputs": [
    {
     "name": "stdout",
     "output_type": "stream",
     "text": [
      "Connected. Call `.close()` to terminate connection gracefully."
     ]
    }
   ],
   "source": [
    "# Create a connection\n",
    "connection = hsfs.connection()\n",
    "# Get the feature store handle for the project's feature store\n",
    "fs = connection.get_feature_store()"
   ]
  },
  {
   "cell_type": "markdown",
   "metadata": {},
   "source": [
    "## Load transactions feature group from hsfs"
   ]
  },
  {
   "cell_type": "code",
   "execution_count": 4,
   "metadata": {},
   "outputs": [
    {
     "name": "stdout",
     "output_type": "stream",
     "text": [
      "+--------+-------+--------+--------------+-------+--------+\n",
      "|     src|tx_type|     dst|tran_timestamp|tran_id|base_amt|\n",
      "+--------+-------+--------+--------------+-------+--------+\n",
      "|3aa9646b|      4|1e46e726|        Jan-01|    496|  858.77|\n",
      "|49203bc3|      4|a74d1101|        Jan-01|   1342|  386.86|\n",
      "|616d4505|      4|99af2455|        Jan-02|   1580|  616.43|\n",
      "|39be1ea2|      4|e7ec7bdb|        Jan-02|   2866|  146.44|\n",
      "|e2e0d938|      4|afc399a9|        Jan-03|   3997|  439.09|\n",
      "|75c9a805|      4|d7a317f6|        Jan-04|   5518|   361.0|\n",
      "|c14f4989|      4|733a496b|        Jan-06|   7340|  768.98|\n",
      "|576eb672|      4|aa49b0eb|        Jan-07|   9376|   943.4|\n",
      "|847a9cf6|      4|b070a6bb|        Jan-08|  10362|   668.3|\n",
      "|12a388ff|      4|586377aa|        Jan-08|  10817|  139.84|\n",
      "|b36f9c84|      4|1b467848|        Jan-08|  11317|  499.47|\n",
      "|362e42e0|      4|385afb8b|        Jan-09|  11748|  357.96|\n",
      "|572014da|      4|acd60eca|        Jan-10|  13285|   630.9|\n",
      "|5ff2d9a7|      4|31976e38|        Jan-11|  14832|  685.07|\n",
      "|24bf603c|      4|fcf3bbf3|        Jan-11|  15619|  964.81|\n",
      "|9a118f8d|      4|ca0967a6|        Jan-12|  16574|  919.76|\n",
      "|65b8a85f|      4|bc0de3c7|        Jan-14|  18944|  302.26|\n",
      "|d7a317f6|      4|31db9495|        Jan-14|  19204|  637.18|\n",
      "|95aac0c4|      4|3a63a8fc|        Jan-14|  19530|  630.43|\n",
      "|5411dc34|      4|f388cc0f|        Jan-15|  20382|  374.73|\n",
      "+--------+-------+--------+--------------+-------+--------+\n",
      "only showing top 20 rows"
     ]
    }
   ],
   "source": [
    "transactions_fg = fs.get_feature_group(\"transactions_fg\", 1)\n",
    "transactions_df = transactions_fg.read()\n",
    "transactions_df.show()"
   ]
  },
  {
   "cell_type": "markdown",
   "metadata": {},
   "source": [
    "## Load alert transactions feature group from hsfs"
   ]
  },
  {
   "cell_type": "code",
   "execution_count": 5,
   "metadata": {},
   "outputs": [
    {
     "name": "stdout",
     "output_type": "stream",
     "text": [
      "+--------------+-------+--------+------+\n",
      "|    alert_type|tran_id|alert_id|is_sar|\n",
      "+--------------+-------+--------+------+\n",
      "|gather_scatter|  11873|      47|  true|\n",
      "|gather_scatter|  11874|      47|  true|\n",
      "|gather_scatter|  11875|      47|  true|\n",
      "|gather_scatter|  13151|      47|  true|\n",
      "|gather_scatter|  23148|      47|  true|\n",
      "|scatter_gather|  23779|      17|  true|\n",
      "|scatter_gather|  23780|      17|  true|\n",
      "|scatter_gather|  26441|      17|  true|\n",
      "|scatter_gather|  26442|      17|  true|\n",
      "|gather_scatter|  28329|      47|  true|\n",
      "|gather_scatter|  31581|      47|  true|\n",
      "|gather_scatter|  34310|      47|  true|\n",
      "|scatter_gather|  34433|      17|  true|\n",
      "|gather_scatter|  36131|      58|  true|\n",
      "|scatter_gather|  36563|      17|  true|\n",
      "|scatter_gather|  41430|      17|  true|\n",
      "|scatter_gather|  42363|      17|  true|\n",
      "|gather_scatter|  42511|      58|  true|\n",
      "|gather_scatter|  44370|      58|  true|\n",
      "|gather_scatter|  46176|      58|  true|\n",
      "+--------------+-------+--------+------+\n",
      "only showing top 20 rows"
     ]
    }
   ],
   "source": [
    "alert_transactions_fg = fs.get_feature_group(\"alert_transactions_fg\", 1)\n",
    "alert_transactions_df = alert_transactions_fg.read()\n",
    "alert_transactions_df.show()"
   ]
  },
  {
   "cell_type": "markdown",
   "metadata": {},
   "source": [
    "## Load party feature group from hsfs"
   ]
  },
  {
   "cell_type": "code",
   "execution_count": 6,
   "metadata": {},
   "outputs": [
    {
     "name": "stdout",
     "output_type": "stream",
     "text": [
      "+----+--------+\n",
      "|type|      id|\n",
      "+----+--------+\n",
      "|   0|5628bd6c|\n",
      "|   0|a1fcba39|\n",
      "|   1|f56c9501|\n",
      "|   0|9969afdd|\n",
      "|   1|b356eeae|\n",
      "|   0|3406706a|\n",
      "|   0|26c56102|\n",
      "|   1|e386ebf7|\n",
      "|   1|8c094b0d|\n",
      "|   1|939235aa|\n",
      "|   0|de6bf2a5|\n",
      "|   0|33a8ff5b|\n",
      "|   1|a32807a1|\n",
      "|   0|2906ef08|\n",
      "|   1|c2a01b8d|\n",
      "|   1|5a99160f|\n",
      "|   0|8b9017b8|\n",
      "|   1|fcf3bbf3|\n",
      "|   0|5132aa4d|\n",
      "|   1|68b90958|\n",
      "+----+--------+\n",
      "only showing top 20 rows"
     ]
    }
   ],
   "source": [
    "party_fg = fs.get_feature_group(\"party_fg\", 1)\n",
    "party_df = party_fg.read()\n",
    "party_df.show()"
   ]
  },
  {
   "cell_type": "code",
   "execution_count": null,
   "metadata": {},
   "outputs": [],
   "source": []
  },
  {
   "cell_type": "markdown",
   "metadata": {},
   "source": [
    "## Create graph edge training dataset"
   ]
  },
  {
   "cell_type": "code",
   "execution_count": 7,
   "metadata": {},
   "outputs": [
    {
     "name": "stdout",
     "output_type": "stream",
     "text": [
      "915"
     ]
    }
   ],
   "source": [
    "alert_transactions_df.count()"
   ]
  },
  {
   "cell_type": "code",
   "execution_count": 8,
   "metadata": {},
   "outputs": [
    {
     "name": "stdout",
     "output_type": "stream",
     "text": [
      "438386"
     ]
    }
   ],
   "source": [
    "transactions_df.count()"
   ]
  },
  {
   "cell_type": "code",
   "execution_count": 9,
   "metadata": {},
   "outputs": [],
   "source": [
    "edges = transactions_df.join(alert_transactions_df,[\"tran_id\"],\"left\")\n",
    "edges = edges.withColumn(\"is_sar\",F.when(F.col(\"is_sar\") == \"true\", 1).otherwise(0))\\\n",
    "             .select(\"src\",\"dst\",\"tx_type\",\"base_amt\",\"tran_id\",\"is_sar\")\\\n",
    "             .toDF('source', 'target', 'tx_type', 'base_amt', 'tran_id', 'is_sar')"
   ]
  },
  {
   "cell_type": "code",
   "execution_count": 10,
   "metadata": {},
   "outputs": [
    {
     "name": "stdout",
     "output_type": "stream",
     "text": [
      "+--------+--------+-------+--------+-------+------+\n",
      "|  source|  target|tx_type|base_amt|tran_id|is_sar|\n",
      "+--------+--------+-------+--------+-------+------+\n",
      "|3aa9646b|1e46e726|      4|  858.77|    496|     0|\n",
      "|49203bc3|a74d1101|      4|  386.86|   1342|     0|\n",
      "|616d4505|99af2455|      4|  616.43|   1580|     0|\n",
      "|39be1ea2|e7ec7bdb|      4|  146.44|   2866|     0|\n",
      "|e2e0d938|afc399a9|      4|  439.09|   3997|     0|\n",
      "|75c9a805|d7a317f6|      4|   361.0|   5518|     0|\n",
      "|c14f4989|733a496b|      4|  768.98|   7340|     0|\n",
      "|576eb672|aa49b0eb|      4|   943.4|   9376|     0|\n",
      "|847a9cf6|b070a6bb|      4|   668.3|  10362|     0|\n",
      "|12a388ff|586377aa|      4|  139.84|  10817|     0|\n",
      "|b36f9c84|1b467848|      4|  499.47|  11317|     0|\n",
      "|362e42e0|385afb8b|      4|  357.96|  11748|     0|\n",
      "|572014da|acd60eca|      4|   630.9|  13285|     0|\n",
      "|5ff2d9a7|31976e38|      4|  685.07|  14832|     0|\n",
      "|24bf603c|fcf3bbf3|      4|  964.81|  15619|     0|\n",
      "|9a118f8d|ca0967a6|      4|  919.76|  16574|     0|\n",
      "|65b8a85f|bc0de3c7|      4|  302.26|  18944|     0|\n",
      "|d7a317f6|31db9495|      4|  637.18|  19204|     0|\n",
      "|95aac0c4|3a63a8fc|      4|  630.43|  19530|     0|\n",
      "|5411dc34|f388cc0f|      4|  374.73|  20382|     0|\n",
      "+--------+--------+-------+--------+-------+------+\n",
      "only showing top 20 rows"
     ]
    }
   ],
   "source": [
    "edges.show()"
   ]
  },
  {
   "cell_type": "code",
   "execution_count": 11,
   "metadata": {},
   "outputs": [
    {
     "name": "stdout",
     "output_type": "stream",
     "text": [
      "438386"
     ]
    }
   ],
   "source": [
    "edges.count()"
   ]
  },
  {
   "cell_type": "code",
   "execution_count": 12,
   "metadata": {},
   "outputs": [
    {
     "name": "stdout",
     "output_type": "stream",
     "text": [
      "915"
     ]
    }
   ],
   "source": [
    "edges.where(F.col(\"is_sar\")==1).count()"
   ]
  },
  {
   "cell_type": "code",
   "execution_count": 13,
   "metadata": {},
   "outputs": [
    {
     "name": "stdout",
     "output_type": "stream",
     "text": [
      "<hsfs.training_dataset.TrainingDataset object at 0x7fbf8d106d10>"
     ]
    }
   ],
   "source": [
    "edges_td_meta = fs.create_training_dataset(name=\"edges_td\",\n",
    "                                       version=1,\n",
    "                                       data_format=\"csv\",\n",
    "                                       label = [\"is_sar\"],   \n",
    "                                       description=\"edges training dataset\")\n",
    "edges_td_meta.save(edges)"
   ]
  },
  {
   "cell_type": "markdown",
   "metadata": {},
   "source": [
    "## Create graph node training dataset"
   ]
  },
  {
   "cell_type": "code",
   "execution_count": 14,
   "metadata": {},
   "outputs": [
    {
     "name": "stdout",
     "output_type": "stream",
     "text": [
      "+--------+\n",
      "|      id|\n",
      "+--------+\n",
      "|26c56102|\n",
      "|9969afdd|\n",
      "|2906ef08|\n",
      "|5a99160f|\n",
      "|de6bf2a5|\n",
      "|b356eeae|\n",
      "|f56c9501|\n",
      "|a32807a1|\n",
      "|939235aa|\n",
      "|e386ebf7|\n",
      "|33a8ff5b|\n",
      "|a9edaba6|\n",
      "|8c094b0d|\n",
      "|fcf3bbf3|\n",
      "|5628bd6c|\n",
      "|a1fcba39|\n",
      "|c2a01b8d|\n",
      "|7138cbc6|\n",
      "|3406706a|\n",
      "|68b90958|\n",
      "+--------+\n",
      "only showing top 20 rows"
     ]
    }
   ],
   "source": [
    "sources = edges.select([\"source\"]).toDF(\"id\")\n",
    "targets = edges.select([\"target\"]).toDF(\"id\")\n",
    "nodes = sources.union(targets).dropDuplicates(subset=[\"id\"])\n",
    "nodes.show()"
   ]
  },
  {
   "cell_type": "code",
   "execution_count": 15,
   "metadata": {},
   "outputs": [
    {
     "name": "stdout",
     "output_type": "stream",
     "text": [
      "7347"
     ]
    }
   ],
   "source": [
    "nodes.count()"
   ]
  },
  {
   "cell_type": "code",
   "execution_count": 16,
   "metadata": {},
   "outputs": [
    {
     "name": "stdout",
     "output_type": "stream",
     "text": [
      "7347"
     ]
    }
   ],
   "source": [
    "nodes_td = nodes.join(party_df, [\"id\"])\n",
    "nodes_td.count()"
   ]
  },
  {
   "cell_type": "code",
   "execution_count": 17,
   "metadata": {},
   "outputs": [
    {
     "name": "stdout",
     "output_type": "stream",
     "text": [
      "+--------+----+\n",
      "|      id|type|\n",
      "+--------+----+\n",
      "|26c56102|   0|\n",
      "|9969afdd|   0|\n",
      "|2906ef08|   0|\n",
      "|5a99160f|   1|\n",
      "|de6bf2a5|   0|\n",
      "|b356eeae|   1|\n",
      "|f56c9501|   1|\n",
      "|a32807a1|   1|\n",
      "|939235aa|   1|\n",
      "|e386ebf7|   1|\n",
      "|33a8ff5b|   0|\n",
      "|a9edaba6|   0|\n",
      "|8c094b0d|   1|\n",
      "|fcf3bbf3|   1|\n",
      "|5628bd6c|   0|\n",
      "|a1fcba39|   0|\n",
      "|c2a01b8d|   1|\n",
      "|7138cbc6|   1|\n",
      "|3406706a|   0|\n",
      "|68b90958|   1|\n",
      "+--------+----+\n",
      "only showing top 20 rows"
     ]
    }
   ],
   "source": [
    "nodes_td.show()"
   ]
  },
  {
   "cell_type": "code",
   "execution_count": 18,
   "metadata": {},
   "outputs": [
    {
     "name": "stdout",
     "output_type": "stream",
     "text": [
      "<hsfs.training_dataset.TrainingDataset object at 0x7fbf8cc7ba10>"
     ]
    }
   ],
   "source": [
    "node_td_meta = fs.create_training_dataset(name=\"node_td\",\n",
    "                                       version=1,\n",
    "                                       data_format=\"csv\",   \n",
    "                                       description=\"node training dataset\")\n",
    "node_td_meta.save(nodes_td)"
   ]
  }
 ],
 "metadata": {
  "kernelspec": {
   "display_name": "PySpark",
   "language": "python",
   "name": "pysparkkernel"
  },
  "language_info": {
   "codemirror_mode": {
    "name": "python",
    "version": 3
   },
   "mimetype": "text/x-python",
   "name": "pyspark",
   "pygments_lexer": "python3"
  }
 },
 "nbformat": 4,
 "nbformat_minor": 4
}
