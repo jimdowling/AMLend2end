{
 "cells": [
  {
   "cell_type": "markdown",
   "metadata": {},
   "source": [
    "## In this notebook we will ingest computed node embeddings as feature groups and also prepare training datasets for anomaly detection model training  \n",
    "\n",
    "---\n",
    "**NOTE**: \n",
    "\n",
    "In real life scenarios financial transaction are dynamically evolving graphs. If live Transaction Monitoring System is based on graph or node embeddings then this will require 1st to update the graph and node representations after new transactions arrive. Recomputing entire graph for every newly arrived transaction will lead to unaxeptable delayes and even monitoring system failures. This problem  will be more sever if large amount of updates happen in a short time window.\n",
    "\n",
    "Contact us at Logical Clocks and we will help you to setup end to end graph based deep anomaly detection live Transaction Monitoring Systems. \n",
    "\n",
    "---"
   ]
  },
  {
   "cell_type": "markdown",
   "metadata": {},
   "source": [
    "## Query Model Repository for best node embeddings model"
   ]
  },
  {
   "cell_type": "code",
   "execution_count": 1,
   "metadata": {},
   "outputs": [
    {
     "name": "stdout",
     "output_type": "stream",
     "text": [
      "Starting Spark application\n"
     ]
    },
    {
     "data": {
      "text/html": [
       "<table>\n",
       "<tr><th>ID</th><th>YARN Application ID</th><th>Kind</th><th>State</th><th>Spark UI</th><th>Driver log</th></tr><tr><td>7</td><td>application_1612044880670_0008</td><td>pyspark</td><td>idle</td><td><a target=\"_blank\" href=\"http://davitamlgpu-master.internal.cloudapp.net:8088/proxy/application_1612044880670_0008/\">Link</a></td><td><a target=\"_blank\" href=\"http://davitamlgpu-worker-1.internal.cloudapp.net:8042/node/containerlogs/container_e04_1612044880670_0008_01_000001/amlsim__meb10179\">Link</a></td></tr></table>"
      ],
      "text/plain": [
       "<IPython.core.display.HTML object>"
      ]
     },
     "metadata": {},
     "output_type": "display_data"
    },
    {
     "name": "stdout",
     "output_type": "stream",
     "text": [
      "SparkSession available as 'spark'.\n"
     ]
    }
   ],
   "source": [
    "from hops import model\n",
    "from hops.model import Metric\n",
    "MODEL_NAME=\"NodeEmbeddings\"\n",
    "EVALUATION_METRIC=\"accuracy\""
   ]
  },
  {
   "cell_type": "code",
   "execution_count": 2,
   "metadata": {},
   "outputs": [],
   "source": [
    "best_model = model.get_best_model(MODEL_NAME, EVALUATION_METRIC, Metric.MAX)"
   ]
  },
  {
   "cell_type": "code",
   "execution_count": 3,
   "metadata": {},
   "outputs": [
    {
     "name": "stderr",
     "output_type": "stream",
     "text": [
      "An error was encountered:\n",
      "'experimentId'\n",
      "Traceback (most recent call last):\n",
      "KeyError: 'experimentId'\n",
      "\n"
     ]
    }
   ],
   "source": [
    "best_model['experimentId']"
   ]
  },
  {
   "cell_type": "markdown",
   "metadata": {},
   "source": [
    "## Define model and load wights "
   ]
  },
  {
   "cell_type": "code",
   "execution_count": 4,
   "metadata": {},
   "outputs": [],
   "source": [
    "import tensorflow as tf\n",
    "from tensorflow import keras  \n",
    "\n",
    "import pandas as pd\n",
    "from stellargraph import StellarDiGraph\n",
    "from stellargraph.mapper import Node2VecLinkGenerator, Node2VecNodeGenerator\n",
    "from stellargraph.data import UnsupervisedSampler, BiasedRandomWalk\n",
    "from stellargraph.layer import Node2Vec\n",
    "import pydoop.hdfs as pydoop\n",
    "from pyspark.sql import functions as F\n",
    "from pyspark.sql.functions import array, coalesce, concat,  col\n",
    "\n",
    "import hsfs\n",
    "from hops import hdfs\n"
   ]
  },
  {
   "cell_type": "code",
   "execution_count": 5,
   "metadata": {},
   "outputs": [
    {
     "name": "stdout",
     "output_type": "stream",
     "text": [
      "Connected. Call `.close()` to terminate connection gracefully."
     ]
    }
   ],
   "source": [
    "# Create a connection\n",
    "connection = hsfs.connection()\n",
    "# Get the feature store handle for the project's feature store\n",
    "fs = connection.get_feature_store()"
   ]
  },
  {
   "cell_type": "code",
   "execution_count": 6,
   "metadata": {},
   "outputs": [],
   "source": [
    "node_td = fs.get_training_dataset(\"node_td\", 1)\n",
    "edge_td = fs.get_training_dataset(\"edges_td\", 1)"
   ]
  },
  {
   "cell_type": "code",
   "execution_count": 7,
   "metadata": {},
   "outputs": [],
   "source": [
    "# Get fg as pandas\n",
    "node_pdf = node_td.read().toPandas()\n",
    "edge_pdf = edge_td.read().drop(\"tran_timestamp\").toPandas()"
   ]
  },
  {
   "cell_type": "code",
   "execution_count": 8,
   "metadata": {},
   "outputs": [
    {
     "name": "stdout",
     "output_type": "stream",
     "text": [
      "Defining StellarDiGraph"
     ]
    }
   ],
   "source": [
    "node_data = pd.DataFrame(node_pdf[['type']], index=node_pdf['id'])\n",
    "\n",
    "print('Defining StellarDiGraph')\n",
    "G =StellarDiGraph(node_data,\n",
    "                      edges=edge_pdf, \n",
    "                      edge_type_column=\"tx_type\")\n"
   ]
  },
  {
   "cell_type": "code",
   "execution_count": 9,
   "metadata": {},
   "outputs": [],
   "source": [
    "from hops import experiment\n",
    "from hops import hdfs\n",
    "import json\n"
   ]
  },
  {
   "cell_type": "code",
   "execution_count": 10,
   "metadata": {},
   "outputs": [
    {
     "name": "stderr",
     "output_type": "stream",
     "text": [
      "An error was encountered:\n",
      "path hdfs://rpc.namenode.service.consul:8020/Projects/amlsim/Resources/embeddings_best_hp.json not found\n",
      "Traceback (most recent call last):\n",
      "  File \"/srv/hops/anaconda/envs/theenv/lib/python3.7/site-packages/hops/hdfs.py\", line 751, in load\n",
      "    hdfs_path = _expand_path(hdfs_path)\n",
      "  File \"/srv/hops/anaconda/envs/theenv/lib/python3.7/site-packages/hops/hdfs.py\", line 193, in _expand_path\n",
      "    raise IOError(\"path %s not found\" % hdfs_path)\n",
      "OSError: path hdfs://rpc.namenode.service.consul:8020/Projects/amlsim/Resources/embeddings_best_hp.json not found\n",
      "\n"
     ]
    }
   ],
   "source": [
    "best_hyperparams_path = \"Resources/embeddings_best_hp.json\"\n",
    "best_hyperparams = json.loads(hdfs.load(best_hyperparams_path))\n",
    "args_dict = {}\n",
    "for key in best_hyperparams.keys():\n",
    "    args_dict[key] = [best_hyperparams[key]]\n",
    "    "
   ]
  },
  {
   "cell_type": "code",
   "execution_count": 11,
   "metadata": {},
   "outputs": [],
   "source": [
    "args_dict =  {\"walk_number\": [40], \"walk_length\": [5], \"emb_size\": [128]}        "
   ]
  },
  {
   "cell_type": "code",
   "execution_count": 12,
   "metadata": {},
   "outputs": [],
   "source": [
    "walk_number = args_dict['walk_number']\n",
    "walk_length = args_dict['walk_length']\n",
    "batch_size = 1\n",
    "emb_size = args_dict['emb_size'][0]\n",
    "# Extracting node embeddings\n",
    "walker = BiasedRandomWalk(\n",
    "        G,\n",
    "        n=walk_number,\n",
    "        length=walk_length,\n",
    "        p=0.5,  # defines probability, 1/p, of returning to source node\n",
    "        q=2.0,  # defines probability, 1/q, for moving to a node away from the source node\n",
    "    )\n",
    "unsupervised_samples = UnsupervisedSampler(G, nodes=list(G.nodes()), walker=walker)\n",
    "generator = Node2VecLinkGenerator(G, batch_size)\n",
    "\n",
    "node2vec = Node2Vec(emb_size, generator=generator)\n",
    "x_inp, x_out = node2vec.in_out_tensors()\n",
    "\n",
    "x_inp_src = x_inp[0]\n",
    "x_out_src = x_out[0]\n",
    "embedding_model = keras.Model(inputs=x_inp_src, outputs=x_out_src)"
   ]
  },
  {
   "cell_type": "code",
   "execution_count": 13,
   "metadata": {},
   "outputs": [
    {
     "name": "stderr",
     "output_type": "stream",
     "text": [
      "An error was encountered:\n",
      "'experimentId'\n",
      "Traceback (most recent call last):\n",
      "KeyError: 'experimentId'\n",
      "\n"
     ]
    }
   ],
   "source": [
    "latest = tf.train.latest_checkpoint(\"hdfs:///Projects/{}/Experiments/\".format(hdfs.project_name()) + best_model['experimentId'])\n",
    "embedding_model.load_weights(latest)"
   ]
  },
  {
   "cell_type": "code",
   "execution_count": 14,
   "metadata": {},
   "outputs": [],
   "source": [
    "nodes = list(G.nodes())\n",
    "node_gen = Node2VecNodeGenerator(G, batch_size).flow(nodes)"
   ]
  },
  {
   "cell_type": "code",
   "execution_count": 15,
   "metadata": {},
   "outputs": [],
   "source": [
    "import numpy as np\n",
    "import pandas as pd \n",
    "\n",
    "pdf = pd.DataFrame(embedding_model.predict(node_gen), index=G.nodes())\n",
    "emb_feature_names = [\"em_\" + str(c)  for c in pdf.columns]\n",
    "pdf.columns = emb_feature_names\n",
    "pdf['id'] = pdf.index\n",
    "node_embeddings_df = spark.createDataFrame(pdf)"
   ]
  },
  {
   "cell_type": "code",
   "execution_count": 16,
   "metadata": {},
   "outputs": [
    {
     "name": "stdout",
     "output_type": "stream",
     "text": [
      "+-------------------+--------------------+-------------------+------------------+------------------+--------------------+--------------------+------------------+-------------------+--------------------+-------------------+------------------+--------------------+--------------------+--------------------+-------------------+--------------------+--------------------+-------------------+------------------+-------------------+-------------------+-------------------+--------------------+--------------------+-------------------+------------------+-------------------+-------------------+--------------------+-------------------+--------------------+--------------------+--------------------+--------------------+--------------------+------------------+--------------------+--------------------+--------------------+-------------------+------------------+------------------+-------------------+-------------------+-------------------+-------------------+-------------------+-------------------+-------------------+-------------------+-------------------+-------------------+-------------------+-------------------+-------------------+--------------------+--------------------+--------------------+-------------------+-------------------+-------------------+------------------+-------------------+-------------------+-------------------+--------------------+--------------------+--------------------+--------------------+--------------------+-------------------+-------------------+-------------------+--------------------+-------------------+-------------------+--------------------+-------------------+--------------------+------------------+-------------------+------------------+-------------------+--------------------+-------------------+--------------------+------------------+-------------------+-------------------+-------------------+-------------------+-------------------+-------------------+--------------------+-------------------+------------------+-------------------+-------------------+-------------------+-------------------+------------------+-------------------+-------------------+-------------------+-------------------+-------------------+-------------------+------------------+-------------------+-------------------+--------------------+--------------------+-------------------+-------------------+--------------------+-------------------+--------------------+-------------------+-------------------+-------------------+--------------------+--------------------+--------------------+-------------------+-------------------+------------------+-------------------+--------+\n",
      "|               em_0|                em_1|               em_2|              em_3|              em_4|                em_5|                em_6|              em_7|               em_8|                em_9|              em_10|             em_11|               em_12|               em_13|               em_14|              em_15|               em_16|               em_17|              em_18|             em_19|              em_20|              em_21|              em_22|               em_23|               em_24|              em_25|             em_26|              em_27|              em_28|               em_29|              em_30|               em_31|               em_32|               em_33|               em_34|               em_35|             em_36|               em_37|               em_38|               em_39|              em_40|             em_41|             em_42|              em_43|              em_44|              em_45|              em_46|              em_47|              em_48|              em_49|              em_50|              em_51|              em_52|              em_53|              em_54|              em_55|               em_56|               em_57|               em_58|              em_59|              em_60|              em_61|             em_62|              em_63|              em_64|              em_65|               em_66|               em_67|               em_68|               em_69|               em_70|              em_71|              em_72|              em_73|               em_74|              em_75|              em_76|               em_77|              em_78|               em_79|             em_80|              em_81|             em_82|              em_83|               em_84|              em_85|               em_86|             em_87|              em_88|              em_89|              em_90|              em_91|              em_92|              em_93|               em_94|              em_95|             em_96|              em_97|              em_98|              em_99|             em_100|            em_101|             em_102|             em_103|             em_104|             em_105|             em_106|             em_107|            em_108|             em_109|             em_110|              em_111|              em_112|             em_113|             em_114|              em_115|             em_116|              em_117|             em_118|             em_119|             em_120|              em_121|              em_122|              em_123|             em_124|             em_125|            em_126|             em_127|      id|\n",
      "+-------------------+--------------------+-------------------+------------------+------------------+--------------------+--------------------+------------------+-------------------+--------------------+-------------------+------------------+--------------------+--------------------+--------------------+-------------------+--------------------+--------------------+-------------------+------------------+-------------------+-------------------+-------------------+--------------------+--------------------+-------------------+------------------+-------------------+-------------------+--------------------+-------------------+--------------------+--------------------+--------------------+--------------------+--------------------+------------------+--------------------+--------------------+--------------------+-------------------+------------------+------------------+-------------------+-------------------+-------------------+-------------------+-------------------+-------------------+-------------------+-------------------+-------------------+-------------------+-------------------+-------------------+-------------------+--------------------+--------------------+--------------------+-------------------+-------------------+-------------------+------------------+-------------------+-------------------+-------------------+--------------------+--------------------+--------------------+--------------------+--------------------+-------------------+-------------------+-------------------+--------------------+-------------------+-------------------+--------------------+-------------------+--------------------+------------------+-------------------+------------------+-------------------+--------------------+-------------------+--------------------+------------------+-------------------+-------------------+-------------------+-------------------+-------------------+-------------------+--------------------+-------------------+------------------+-------------------+-------------------+-------------------+-------------------+------------------+-------------------+-------------------+-------------------+-------------------+-------------------+-------------------+------------------+-------------------+-------------------+--------------------+--------------------+-------------------+-------------------+--------------------+-------------------+--------------------+-------------------+-------------------+-------------------+--------------------+--------------------+--------------------+-------------------+-------------------+------------------+-------------------+--------+\n",
      "| 0.5231902599334717|0.003402471542358...|-0.3433506488800049| 0.551642656326294|0.6855282783508301|  0.6568777561187744|-0.27346253395080566|0.5428981781005859| 0.9147379398345947|-0.02922511100769043|0.49729275703430176|0.9986183643341064|0.002733469009399414|-0.30236005783081055| -0.4054276943206787|0.02330327033996582|-0.00786018371582...| 0.13808965682983398|-0.6779828071594238|0.8981823921203613| 0.9708828926086426|-0.6294653415679932| -0.304506778717041|-0.38636112213134766|-0.28453493118286133|-0.7539160251617432|0.7550480365753174| 0.7330482006072998|-0.8610997200012207|-0.40325307846069336|0.05514931678771973|-0.17700862884521484|  0.8646185398101807|-0.31394529342651367|-0.22972774505615234|  -0.843144416809082|0.6851718425750732| -0.6583514213562012|  0.6864302158355713|  0.2143092155456543|-0.5596883296966553|-0.607250452041626|0.1219944953918457| 0.5254786014556885|-0.8529314994812012| 0.3572657108306885|  0.452089786529541|-0.9563815593719482| 0.3292515277862549|-0.7764270305633545|-0.9813783168792725|-0.4231400489807129|-0.1701958179473877|0.37358593940734863| -0.824944257736206| -0.657477617263794|  0.3837110996246338|-0.25847291946411133| -0.1779313087463379|-0.9729559421539307|-0.2629222869873047|-0.9270217418670654|0.6221256256103516|0.17874526977539062| 0.4405527114868164|0.14957499504089355| -0.2023158073425293|-0.03011584281921...|-0.16626977920532227|-0.28897905349731445|-0.27854347229003906| 0.2262554168701172|-0.8339602947235107| -0.930150032043457|-0.11713647842407227|-0.8089168071746826|-0.5908329486846924|  0.5023608207702637|-0.9204082489013672|-0.11510944366455078| 0.663304328918457| -0.857123851776123|0.5574636459350586|-0.7502768039703369|-0.12349104881286621| -0.328441858291626|-0.13073015213012695|0.4038212299346924| 0.1017158031463623|-0.5122799873352051|-0.3668694496154785|-0.2251884937286377| 0.5031051635742188| 0.3757457733154297|-0.45271849632263184|0.44997167587280273|0.9655144214630127| 0.4984757900238037|0.11838746070861816|  0.594672679901123|-0.6430387496948242|0.6927523612976074|  0.508765697479248|-0.6974136829376221| 0.8982036113739014|-0.9245643615722656| 0.7516932487487793|-0.8399016857147217| 0.948706865310669|0.42404770851135254|-0.6786003112792969|  0.8968470096588135|    0.50592041015625|-0.3644833564758301|-0.3570680618286133|  0.7787570953369141|0.04797172546386719| -0.5505151748657227| 0.8499538898468018| 0.8589804172515869| 0.7960371971130371| -0.9281716346740723|  0.9016613960266113|-0.13672780990600586|-0.9691116809844971|-0.6802210807800293| 0.508577823638916|-0.9046194553375244|d40c9dfe|\n",
      "|-0.9053826332092285|-0.22667813301086426|  0.683889627456665|0.7092568874359131|0.4257371425628662|-0.14786243438720703| -0.5902383327484131|0.5410435199737549|-0.4848144054412842| -0.9011192321777344|  0.736107349395752|0.8204371929168701| -0.9327411651611328| -0.5716724395751953|-0.49312734603881836|-0.5396714210510254|  0.7505574226379395|-0.03594374656677246| 0.8523139953613281|0.9186170101165771|-0.7480087280273438|-0.6062905788421631|-0.9486830234527588| -0.9556655883789062|-0.41982173919677734| 0.6215693950653076| 0.349442720413208|0.03863072395324707|-0.5845775604248047|  0.9358594417572021|-0.5235207080841064|  0.3651444911956787|-0.16232919692993164| 0.23969244956970215| -0.7605783939361572|-0.06654620170593262|0.7452294826507568|-0.03277754783630371|-0.02282428741455078|-0.20685529708862305| 0.8484599590301514|0.7958333492279053|0.9449045658111572|0.37560009956359863| 0.8874447345733643|-0.3904109001159668|0.19963288307189941| 0.6167986392974854|-0.8854100704193115|-0.8047170639038086| 0.8346610069274902|-0.9948184490203857|-0.9185686111450195|0.39913225173950195|-0.9442083835601807|0.15887141227722168|-0.26367735862731934| -0.7545087337493896|-0.14975214004516602|-0.6137080192565918|-0.8105275630950928|-0.7286481857299805|0.9906160831451416|0.47603845596313477|-0.5887410640716553| 0.5019426345825195|-0.19677090644836426| -0.9210662841796875| -0.5158042907714844|    0.93184494972229| -0.9744541645050049|-0.6451029777526855|0.35863661766052246|-0.7314481735229492| -0.2804141044616699| 0.5319719314575195|-0.6117594242095947|-0.35971593856811523|-0.6734054088592529| 0.09559440612792969|0.7394611835479736|-0.8154802322387695| 0.272355318069458|0.08071136474609375| -0.3352639675140381|-0.4711904525756836|  0.8747248649597168| 0.691382646560669|-0.4642026424407959|-0.4893758296966553| 0.5037412643432617| 0.5778107643127441|-0.6763832569122314|0.48182129859924316| -0.8998258113861084| 0.9477002620697021| 0.596909761428833|-0.3485896587371826|-0.8469281196594238|-0.6451587677001953| 0.6869676113128662|-0.886821985244751|-0.8796207904815674| 0.4482889175415039|0.49584150314331055| -0.467740535736084|-0.9016396999359131|-0.4281799793243408|0.9036264419555664|-0.8929119110107422| 0.4391777515411377|-0.20974349975585938|-0.20888090133666992| 0.5355591773986816| 0.3323328495025635|-0.01588702201843...|-0.3451981544494629|-0.06672883033752441|-0.3984675407409668|-0.5186097621917725|-0.2963550090789795|-0.37393879890441895|-0.13708877563476562|  0.1667931079864502| 0.9761860370635986| 0.9073493480682373|0.7047252655029297| 0.9138996601104736|27d0f368|\n",
      "+-------------------+--------------------+-------------------+------------------+------------------+--------------------+--------------------+------------------+-------------------+--------------------+-------------------+------------------+--------------------+--------------------+--------------------+-------------------+--------------------+--------------------+-------------------+------------------+-------------------+-------------------+-------------------+--------------------+--------------------+-------------------+------------------+-------------------+-------------------+--------------------+-------------------+--------------------+--------------------+--------------------+--------------------+--------------------+------------------+--------------------+--------------------+--------------------+-------------------+------------------+------------------+-------------------+-------------------+-------------------+-------------------+-------------------+-------------------+-------------------+-------------------+-------------------+-------------------+-------------------+-------------------+-------------------+--------------------+--------------------+--------------------+-------------------+-------------------+-------------------+------------------+-------------------+-------------------+-------------------+--------------------+--------------------+--------------------+--------------------+--------------------+-------------------+-------------------+-------------------+--------------------+-------------------+-------------------+--------------------+-------------------+--------------------+------------------+-------------------+------------------+-------------------+--------------------+-------------------+--------------------+------------------+-------------------+-------------------+-------------------+-------------------+-------------------+-------------------+--------------------+-------------------+------------------+-------------------+-------------------+-------------------+-------------------+------------------+-------------------+-------------------+-------------------+-------------------+-------------------+-------------------+------------------+-------------------+-------------------+--------------------+--------------------+-------------------+-------------------+--------------------+-------------------+--------------------+-------------------+-------------------+-------------------+--------------------+--------------------+--------------------+-------------------+-------------------+------------------+-------------------+--------+\n",
      "only showing top 2 rows"
     ]
    }
   ],
   "source": [
    "node_embeddings_df.show(2)"
   ]
  },
  {
   "cell_type": "markdown",
   "metadata": {},
   "source": [
    "## Create a connection to hsfs"
   ]
  },
  {
   "cell_type": "code",
   "execution_count": 17,
   "metadata": {},
   "outputs": [
    {
     "name": "stdout",
     "output_type": "stream",
     "text": [
      "Connected. Call `.close()` to terminate connection gracefully."
     ]
    }
   ],
   "source": [
    "import hsfs\n",
    "from hops import hdfs\n",
    "# Create a connection\n",
    "connection = hsfs.connection()\n",
    "# Get the feature store handle for the project's feature store\n",
    "fs = connection.get_feature_store()"
   ]
  },
  {
   "cell_type": "markdown",
   "metadata": {},
   "source": [
    "## Retrieve nodes training dataset from hsfs and determine whether node was part of the previously known money laundering scheme or not "
   ]
  },
  {
   "cell_type": "code",
   "execution_count": 18,
   "metadata": {},
   "outputs": [
    {
     "name": "stdout",
     "output_type": "stream",
     "text": [
      "+--------+----+\n",
      "|      id|type|\n",
      "+--------+----+\n",
      "|d40c9dfe|   0|\n",
      "|27d0f368|   1|\n",
      "|3fcbfffd|   0|\n",
      "|c434d818|   1|\n",
      "|97b145d1|   1|\n",
      "+--------+----+\n",
      "only showing top 5 rows"
     ]
    }
   ],
   "source": [
    "node_td = fs.get_training_dataset(\"node_td\", 1)\n",
    "node_td.show(5)"
   ]
  },
  {
   "cell_type": "code",
   "execution_count": 19,
   "metadata": {},
   "outputs": [
    {
     "name": "stdout",
     "output_type": "stream",
     "text": [
      "+--------+--------+-------+--------+-------+------+\n",
      "|  source|  target|tx_type|base_amt|tran_id|is_sar|\n",
      "+--------+--------+-------+--------+-------+------+\n",
      "|3aa9646b|1e46e726|      4|  858.77|    496|     0|\n",
      "|49203bc3|a74d1101|      4|  386.86|   1342|     0|\n",
      "|616d4505|99af2455|      4|  616.43|   1580|     0|\n",
      "|39be1ea2|e7ec7bdb|      4|  146.44|   2866|     0|\n",
      "|e2e0d938|afc399a9|      4|  439.09|   3997|     0|\n",
      "+--------+--------+-------+--------+-------+------+\n",
      "only showing top 5 rows"
     ]
    }
   ],
   "source": [
    "edges_td = fs.get_training_dataset(\"edges_td\", 1)\n",
    "edges_td.show(5)"
   ]
  },
  {
   "cell_type": "code",
   "execution_count": 20,
   "metadata": {},
   "outputs": [
    {
     "name": "stdout",
     "output_type": "stream",
     "text": [
      "+--------+------+\n",
      "|      id|is_sar|\n",
      "+--------+------+\n",
      "|33a8ff5b|     1|\n",
      "|43e028ef|     1|\n",
      "|fcf3bbf3|     1|\n",
      "|8b9017b8|     1|\n",
      "|68c0230d|     1|\n",
      "|d73e5230|     1|\n",
      "|9c187eed|     1|\n",
      "|65636b63|     1|\n",
      "|550a25ff|     1|\n",
      "|c0be245b|     1|\n",
      "|cdbd2ed5|     1|\n",
      "|963b978f|     1|\n",
      "|84563a83|     1|\n",
      "|da77c74b|     1|\n",
      "|840701de|     1|\n",
      "|b0f4351c|     1|\n",
      "|dd2ebcf1|     1|\n",
      "|d7c99aa5|     1|\n",
      "|dc37f73b|     1|\n",
      "|c29d75dc|     1|\n",
      "+--------+------+\n",
      "only showing top 20 rows"
     ]
    }
   ],
   "source": [
    "alert_edges = edges_td.read().where(F.col(\"is_sar\")==1)\n",
    "alert_sources = alert_edges.select([\"source\"]).toDF(\"id\")\n",
    "alert_targets = alert_edges.select([\"target\"]).toDF(\"id\")\n",
    "alert_nodes = alert_sources.union(alert_targets).dropDuplicates(subset=[\"id\"])\n",
    "alert_nodes = alert_nodes.withColumn(\"is_sar\",F.lit(1))\n",
    "alert_nodes.show()"
   ]
  },
  {
   "cell_type": "code",
   "execution_count": 21,
   "metadata": {},
   "outputs": [
    {
     "name": "stdout",
     "output_type": "stream",
     "text": [
      "+--------+------+\n",
      "|      id|is_sar|\n",
      "+--------+------+\n",
      "|01fdc089|     0|\n",
      "|1a14903a|     0|\n",
      "|243b1e8b|     0|\n",
      "|26c56102|     0|\n",
      "|2906ef08|     0|\n",
      "|33a8ff5b|     1|\n",
      "|3406706a|     0|\n",
      "|3406d993|     0|\n",
      "|43e028ef|     1|\n",
      "|4b46d80d|     0|\n",
      "|5132aa4d|     0|\n",
      "|5628bd6c|     0|\n",
      "|5645140a|     0|\n",
      "|5a99160f|     0|\n",
      "|5c01ec6e|     0|\n",
      "|62827917|     0|\n",
      "|68b90958|     0|\n",
      "|7138cbc6|     0|\n",
      "|8b9017b8|     1|\n",
      "|8c094b0d|     0|\n",
      "+--------+------+\n",
      "only showing top 20 rows"
     ]
    }
   ],
   "source": [
    "node_embeddings_df = node_embeddings_df.join(alert_nodes,['id'],\"left\")\n",
    "node_embeddings_df = node_embeddings_df.withColumn(\"is_sar\",F.when(F.col(\"is_sar\") == 1, F.col(\"is_sar\")).otherwise(0))\n",
    "node_embeddings_df.select(\"id\",\"is_sar\").show()"
   ]
  },
  {
   "cell_type": "code",
   "execution_count": 22,
   "metadata": {},
   "outputs": [
    {
     "name": "stdout",
     "output_type": "stream",
     "text": [
      "7347"
     ]
    }
   ],
   "source": [
    "node_embeddings_df.count()"
   ]
  },
  {
   "cell_type": "code",
   "execution_count": 23,
   "metadata": {},
   "outputs": [],
   "source": [
    "emb_td = node_embeddings_df.drop(\"id\").withColumn(\"embedding\", array(emb_feature_names)).select(\"is_sar\",\"embedding\").withColumnRenamed(\"is_sar\",\"target\")"
   ]
  },
  {
   "cell_type": "code",
   "execution_count": 24,
   "metadata": {},
   "outputs": [
    {
     "name": "stdout",
     "output_type": "stream",
     "text": [
      "+------+--------------------+\n",
      "|target|           embedding|\n",
      "+------+--------------------+\n",
      "|     0|[0.65557503700256...|\n",
      "|     0|[0.03187417984008...|\n",
      "|     0|[-0.7043623924255...|\n",
      "|     0|[-0.9446828365325...|\n",
      "|     0|[0.23085451126098...|\n",
      "|     1|[0.82747030258178...|\n",
      "|     0|[0.54382753372192...|\n",
      "|     0|[0.61781072616577...|\n",
      "|     1|[0.80388236045837...|\n",
      "|     0|[-0.3154253959655...|\n",
      "|     0|[0.87875199317932...|\n",
      "|     0|[0.86473488807678...|\n",
      "|     0|[0.87911987304687...|\n",
      "|     0|[0.09957599639892...|\n",
      "|     0|[0.72779989242553...|\n",
      "|     0|[0.41938018798828...|\n",
      "|     0|[-0.5063805580139...|\n",
      "|     0|[-0.7970652580261...|\n",
      "|     1|[-0.8386015892028...|\n",
      "|     0|[-0.2255148887634...|\n",
      "+------+--------------------+\n",
      "only showing top 20 rows"
     ]
    }
   ],
   "source": [
    "emb_td.show()"
   ]
  },
  {
   "cell_type": "markdown",
   "metadata": {},
   "source": [
    "## Prepare training datasets for anomaly detection \n",
    "###### In the next notebook we are going to train [gan for anomaly detection](https://arxiv.org/pdf/1905.11034.pdf). Durring training step  we will provide only features of accounts that have never been reported for money laundering behaviour.  But we will disclose previously reported accounts to the model only in evaluation step.   "
   ]
  },
  {
   "cell_type": "code",
   "execution_count": 25,
   "metadata": {},
   "outputs": [],
   "source": [
    "non_sar_df = emb_td.where(col(\"target\")==0)"
   ]
  },
  {
   "cell_type": "code",
   "execution_count": 26,
   "metadata": {},
   "outputs": [],
   "source": [
    "sar_df = emb_td.where(col(\"target\")==1)"
   ]
  },
  {
   "cell_type": "code",
   "execution_count": 27,
   "metadata": {},
   "outputs": [],
   "source": [
    "# Now that the data has been prepared, let's split the dataset into a training and test dataframe\n",
    "[non_sar_train_df, non_sar_eval_df] = non_sar_df.randomSplit([0.8, 0.02],seed = 12345)"
   ]
  },
  {
   "cell_type": "code",
   "execution_count": 28,
   "metadata": {},
   "outputs": [
    {
     "name": "stdout",
     "output_type": "stream",
     "text": [
      "<hsfs.training_dataset.TrainingDataset object at 0x7f38b9bace90>"
     ]
    }
   ],
   "source": [
    "non_sar_td = fs.create_training_dataset(name=\"gan_non_sar_training_df\",\n",
    "                                       version=1,\n",
    "                                       data_format=\"tfrecord\",\n",
    "                                       label=[\"target\"], \n",
    "                                       statistics_config=False, \n",
    "                                       description=\"non sar dataset for gan training\")\n",
    "non_sar_td.save(non_sar_train_df)"
   ]
  },
  {
   "cell_type": "code",
   "execution_count": 29,
   "metadata": {},
   "outputs": [],
   "source": [
    "eval_df = non_sar_eval_df.union(sar_df)"
   ]
  },
  {
   "cell_type": "code",
   "execution_count": 30,
   "metadata": {},
   "outputs": [
    {
     "name": "stdout",
     "output_type": "stream",
     "text": [
      "<hsfs.training_dataset.TrainingDataset object at 0x7f38b9bc3490>"
     ]
    }
   ],
   "source": [
    "gan_eval_ds = fs.create_training_dataset(name=\"gan_eval_df\",\n",
    "                                       version=1,\n",
    "                                       data_format=\"tfrecord\",\n",
    "                                       label=[\"target\"], \n",
    "                                       statistics_config=False, \n",
    "                                       description=\"evaluation dataset for gan training\")\n",
    "gan_eval_ds.save(eval_df)"
   ]
  },
  {
   "cell_type": "code",
   "execution_count": null,
   "metadata": {},
   "outputs": [],
   "source": []
  },
  {
   "cell_type": "code",
   "execution_count": null,
   "metadata": {},
   "outputs": [],
   "source": []
  }
 ],
 "metadata": {
  "kernelspec": {
   "display_name": "PySpark",
   "language": "python",
   "name": "pysparkkernel"
  },
  "language_info": {
   "codemirror_mode": {
    "name": "python",
    "version": 3
   },
   "mimetype": "text/x-python",
   "name": "pyspark",
   "pygments_lexer": "python3"
  }
 },
 "nbformat": 4,
 "nbformat_minor": 4
}
